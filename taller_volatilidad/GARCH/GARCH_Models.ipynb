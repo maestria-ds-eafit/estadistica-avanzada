{
 "cells": [
  {
   "cell_type": "markdown",
   "metadata": {},
   "source": [
    "#  Modelación Volatilidad en Tasas de Cambio con modelos de la familia GARCH\n",
    "\n",
    "**Objetivo**: El objetivo de este Notebook es implementar modelos clásicos de volatilidad como GARCH (Generalized ARCH Models), y EGARCH (Exponential GARCH) y GJR para predecir la tasa de cambio entre monedas.\n",
    "\n",
    "**Descripción Dataset**: El dataset utilizado contiene la información histórica entre \"2021-04-06\" y \"2024-04-06\" con frecuencia diaria para las siguientes tasas de cambio:\n",
    "- `Dolar EstadoUnidense` (USD) contra `Dolar Canadiende` (CAD)\n",
    "- `Dolar EstadoUnidense` (USD) contra `Dolar Australiano` (CAD)\n",
    "\n",
    "**Métricas de evaluación de modelos**: \n",
    "- `Mean Squared Error (MSE)`\n",
    "- `Mean Absolute Error (MAE)`\n",
    "- `Mean Absolute Percentage Error (MAPE)`\n",
    "\n",
    "**Integrantes**\n",
    "- David López\n",
    "- Camilo Velez\n",
    "- Sebastian Ávila\n",
    "- David Armendariz"
   ]
  },
  {
   "cell_type": "markdown",
   "metadata": {},
   "source": [
    "## Importando Librerías"
   ]
  },
  {
   "cell_type": "code",
   "execution_count": 1,
   "metadata": {},
   "outputs": [],
   "source": [
    "import plotly.express as px\n",
    "import matplotlib.pyplot as plt\n",
    "from statsmodels.stats.diagnostic import het_arch\n",
    "from statsmodels.compat import lzip\n",
    "import statsmodels.api as sm\n",
    "from sklearn.metrics import mean_squared_error, mean_absolute_error, mean_absolute_percentage_error\n",
    "import pandas as pd\n",
    "import numpy as np\n",
    "from arch import arch_model"
   ]
  },
  {
   "cell_type": "markdown",
   "metadata": {},
   "source": [
    "## Cargando DataSet"
   ]
  },
  {
   "cell_type": "code",
   "execution_count": 2,
   "metadata": {},
   "outputs": [
    {
     "name": "stdout",
     "output_type": "stream",
     "text": [
      "Date        object\n",
      "USD_CAD    float64\n",
      "USD_AUD    float64\n",
      "dtype: object\n",
      "(1096, 3)\n"
     ]
    },
    {
     "data": {
      "text/html": [
       "<div>\n",
       "<style scoped>\n",
       "    .dataframe tbody tr th:only-of-type {\n",
       "        vertical-align: middle;\n",
       "    }\n",
       "\n",
       "    .dataframe tbody tr th {\n",
       "        vertical-align: top;\n",
       "    }\n",
       "\n",
       "    .dataframe thead th {\n",
       "        text-align: right;\n",
       "    }\n",
       "</style>\n",
       "<table border=\"1\" class=\"dataframe\">\n",
       "  <thead>\n",
       "    <tr style=\"text-align: right;\">\n",
       "      <th></th>\n",
       "      <th>Date</th>\n",
       "      <th>USD_CAD</th>\n",
       "      <th>USD_AUD</th>\n",
       "    </tr>\n",
       "  </thead>\n",
       "  <tbody>\n",
       "    <tr>\n",
       "      <th>0</th>\n",
       "      <td>2021-04-06</td>\n",
       "      <td>1.2566</td>\n",
       "      <td>1.3049</td>\n",
       "    </tr>\n",
       "    <tr>\n",
       "      <th>1</th>\n",
       "      <td>2021-04-07</td>\n",
       "      <td>1.2609</td>\n",
       "      <td>1.3137</td>\n",
       "    </tr>\n",
       "    <tr>\n",
       "      <th>2</th>\n",
       "      <td>2021-04-08</td>\n",
       "      <td>1.2562</td>\n",
       "      <td>1.3066</td>\n",
       "    </tr>\n",
       "    <tr>\n",
       "      <th>3</th>\n",
       "      <td>2021-04-09</td>\n",
       "      <td>1.2530</td>\n",
       "      <td>1.3125</td>\n",
       "    </tr>\n",
       "    <tr>\n",
       "      <th>4</th>\n",
       "      <td>2021-04-10</td>\n",
       "      <td>1.2530</td>\n",
       "      <td>1.3125</td>\n",
       "    </tr>\n",
       "  </tbody>\n",
       "</table>\n",
       "</div>"
      ],
      "text/plain": [
       "         Date  USD_CAD  USD_AUD\n",
       "0  2021-04-06   1.2566   1.3049\n",
       "1  2021-04-07   1.2609   1.3137\n",
       "2  2021-04-08   1.2562   1.3066\n",
       "3  2021-04-09   1.2530   1.3125\n",
       "4  2021-04-10   1.2530   1.3125"
      ]
     },
     "metadata": {},
     "output_type": "display_data"
    },
    {
     "data": {
      "text/html": [
       "<div>\n",
       "<style scoped>\n",
       "    .dataframe tbody tr th:only-of-type {\n",
       "        vertical-align: middle;\n",
       "    }\n",
       "\n",
       "    .dataframe tbody tr th {\n",
       "        vertical-align: top;\n",
       "    }\n",
       "\n",
       "    .dataframe thead th {\n",
       "        text-align: right;\n",
       "    }\n",
       "</style>\n",
       "<table border=\"1\" class=\"dataframe\">\n",
       "  <thead>\n",
       "    <tr style=\"text-align: right;\">\n",
       "      <th></th>\n",
       "      <th>Date</th>\n",
       "      <th>USD_CAD</th>\n",
       "      <th>USD_AUD</th>\n",
       "    </tr>\n",
       "  </thead>\n",
       "  <tbody>\n",
       "    <tr>\n",
       "      <th>1091</th>\n",
       "      <td>2024-04-01</td>\n",
       "      <td>1.3570</td>\n",
       "      <td>1.5410</td>\n",
       "    </tr>\n",
       "    <tr>\n",
       "      <th>1092</th>\n",
       "      <td>2024-04-02</td>\n",
       "      <td>1.3567</td>\n",
       "      <td>1.5342</td>\n",
       "    </tr>\n",
       "    <tr>\n",
       "      <th>1093</th>\n",
       "      <td>2024-04-03</td>\n",
       "      <td>1.3527</td>\n",
       "      <td>1.5233</td>\n",
       "    </tr>\n",
       "    <tr>\n",
       "      <th>1094</th>\n",
       "      <td>2024-04-04</td>\n",
       "      <td>1.3543</td>\n",
       "      <td>1.5180</td>\n",
       "    </tr>\n",
       "    <tr>\n",
       "      <th>1095</th>\n",
       "      <td>2024-04-05</td>\n",
       "      <td>1.3590</td>\n",
       "      <td>1.5201</td>\n",
       "    </tr>\n",
       "  </tbody>\n",
       "</table>\n",
       "</div>"
      ],
      "text/plain": [
       "            Date  USD_CAD  USD_AUD\n",
       "1091  2024-04-01   1.3570   1.5410\n",
       "1092  2024-04-02   1.3567   1.5342\n",
       "1093  2024-04-03   1.3527   1.5233\n",
       "1094  2024-04-04   1.3543   1.5180\n",
       "1095  2024-04-05   1.3590   1.5201"
      ]
     },
     "metadata": {},
     "output_type": "display_data"
    }
   ],
   "source": [
    "df=pd.read_csv(\"../data/trusted/currency_exchange.csv\")\n",
    "df.rename(columns={\"Fecha\":\"Date\"},inplace=True)\n",
    "print(df.dtypes)\n",
    "print(df.shape)\n",
    "display(df.head())\n",
    "display(df.tail())"
   ]
  },
  {
   "cell_type": "markdown",
   "metadata": {},
   "source": [
    "## Testeando ARCH effects\n",
    "\n",
    "Para asegurar que esta clase de modelos son apropiados para la data, usamos el **Engle’s Lagrange multiplier test** con el objetivo de validar la hipótesis de que existe presencia de efectos **Autoregressive Conditionally Heteroscedastic (ARCH)**"
   ]
  },
  {
   "cell_type": "markdown",
   "metadata": {},
   "source": [
    "### USD-CAD"
   ]
  },
  {
   "cell_type": "code",
   "execution_count": 3,
   "metadata": {},
   "outputs": [
    {
     "name": "stdout",
     "output_type": "stream",
     "text": [
      "                            OLS Regression Results                            \n",
      "==============================================================================\n",
      "Dep. Variable:                USD_CAD   R-squared:                       0.000\n",
      "Model:                            OLS   Adj. R-squared:                  0.000\n",
      "Method:                 Least Squares   F-statistic:                       nan\n",
      "Date:                Sun, 14 Apr 2024   Prob (F-statistic):                nan\n",
      "Time:                        15:22:49   Log-Likelihood:                 1770.6\n",
      "No. Observations:                1096   AIC:                            -3539.\n",
      "Df Residuals:                    1095   BIC:                            -3534.\n",
      "Df Model:                           0                                         \n",
      "Covariance Type:            nonrobust                                         \n",
      "==============================================================================\n",
      "                 coef    std err          t      P>|t|      [0.025      0.975]\n",
      "------------------------------------------------------------------------------\n",
      "const          1.3089      0.001    900.442      0.000       1.306       1.312\n",
      "==============================================================================\n",
      "Omnibus:                      755.943   Durbin-Watson:                   0.010\n",
      "Prob(Omnibus):                  0.000   Jarque-Bera (JB):               79.646\n",
      "Skew:                          -0.289   Prob(JB):                     5.07e-18\n",
      "Kurtosis:                       1.812   Cond. No.                         1.00\n",
      "==============================================================================\n",
      "\n",
      "Notes:\n",
      "[1] Standard Errors assume that the covariance matrix of the errors is correctly specified.\n"
     ]
    }
   ],
   "source": [
    "data1 = sm.add_constant(df[\"USD_CAD\"])\n",
    "results = sm.OLS(data1[\"USD_CAD\"], data1[\"const\"]).fit()\n",
    "print(results.summary())"
   ]
  },
  {
   "cell_type": "code",
   "execution_count": 4,
   "metadata": {},
   "outputs": [
    {
     "data": {
      "text/plain": [
       "[('lm', 1040.4406275835142),\n",
       " ('lmpval', 1.6003044611375294e-221),\n",
       " ('fval', 3789.3848150577796),\n",
       " ('fpval', 0.0)]"
      ]
     },
     "execution_count": 4,
     "metadata": {},
     "output_type": "execute_result"
    }
   ],
   "source": [
    "res = het_arch(results.resid, nlags=6)\n",
    "name = [\"lm\", \"lmpval\", \"fval\", \"fpval\"]\n",
    "lzip(name, res)"
   ]
  },
  {
   "cell_type": "markdown",
   "metadata": {},
   "source": [
    "El resultado del test es un **p-value** = 0, por lo tanto, a un nviel de significancia del 99% se rechaza la hipótesis nula de que no hay presencia de efectos ARCH para la tasa de cambio `USD-CAD`"
   ]
  },
  {
   "cell_type": "markdown",
   "metadata": {},
   "source": [
    "### USD-AUD"
   ]
  },
  {
   "cell_type": "code",
   "execution_count": 6,
   "metadata": {},
   "outputs": [
    {
     "name": "stdout",
     "output_type": "stream",
     "text": [
      "                            OLS Regression Results                            \n",
      "==============================================================================\n",
      "Dep. Variable:                USD_AUD   R-squared:                       0.000\n",
      "Model:                            OLS   Adj. R-squared:                  0.000\n",
      "Method:                 Least Squares   F-statistic:                       nan\n",
      "Date:                Sun, 14 Apr 2024   Prob (F-statistic):                nan\n",
      "Time:                        15:23:03   Log-Likelihood:                 1192.9\n",
      "No. Observations:                1096   AIC:                            -2384.\n",
      "Df Residuals:                    1095   BIC:                            -2379.\n",
      "Df Model:                           0                                         \n",
      "Covariance Type:            nonrobust                                         \n",
      "==============================================================================\n",
      "                 coef    std err          t      P>|t|      [0.025      0.975]\n",
      "------------------------------------------------------------------------------\n",
      "const          1.4466      0.002    587.461      0.000       1.442       1.451\n",
      "==============================================================================\n",
      "Omnibus:                      226.880   Durbin-Watson:                   0.011\n",
      "Prob(Omnibus):                  0.000   Jarque-Bera (JB):               53.846\n",
      "Skew:                          -0.229   Prob(JB):                     2.03e-12\n",
      "Kurtosis:                       2.016   Cond. No.                         1.00\n",
      "==============================================================================\n",
      "\n",
      "Notes:\n",
      "[1] Standard Errors assume that the covariance matrix of the errors is correctly specified.\n"
     ]
    }
   ],
   "source": [
    "data1 = sm.add_constant(df[\"USD_AUD\"])\n",
    "results = sm.OLS(data1[\"USD_AUD\"], data1[\"const\"]).fit()\n",
    "print(results.summary())"
   ]
  },
  {
   "cell_type": "code",
   "execution_count": 7,
   "metadata": {},
   "outputs": [
    {
     "data": {
      "text/plain": [
       "[('lm', 1049.775016027846),\n",
       " ('lmpval', 1.5311189571024948e-223),\n",
       " ('fval', 4710.614441119437),\n",
       " ('fpval', 0.0)]"
      ]
     },
     "execution_count": 7,
     "metadata": {},
     "output_type": "execute_result"
    }
   ],
   "source": [
    "res = het_arch(results.resid, nlags=6)\n",
    "name = [\"lm\", \"lmpval\", \"fval\", \"fpval\"]\n",
    "lzip(name, res)"
   ]
  },
  {
   "cell_type": "markdown",
   "metadata": {},
   "source": [
    "## Modelo"
   ]
  },
  {
   "cell_type": "code",
   "execution_count": 9,
   "metadata": {},
   "outputs": [],
   "source": [
    "df.set_index(\"Date\",inplace=True)"
   ]
  },
  {
   "cell_type": "markdown",
   "metadata": {},
   "source": [
    "### Separando datos en training y test"
   ]
  },
  {
   "cell_type": "code",
   "execution_count": 10,
   "metadata": {},
   "outputs": [],
   "source": [
    "\n",
    "# Number of observations in the dataset\n",
    "n = len(df)\n",
    "\n",
    "# Specify the number of steps (days) for the training data\n",
    "# For example, if you want the first 80% of the data for training\n",
    "train_size = int(0.8 * n)\n",
    "\n",
    "# Splitting the data into train and test sets using slice notation\n",
    "train = df[:train_size]\n",
    "test = df[train_size:]\n"
   ]
  },
  {
   "cell_type": "code",
   "execution_count": 13,
   "metadata": {},
   "outputs": [
    {
     "data": {
      "text/html": [
       "<div>\n",
       "<style scoped>\n",
       "    .dataframe tbody tr th:only-of-type {\n",
       "        vertical-align: middle;\n",
       "    }\n",
       "\n",
       "    .dataframe tbody tr th {\n",
       "        vertical-align: top;\n",
       "    }\n",
       "\n",
       "    .dataframe thead th {\n",
       "        text-align: right;\n",
       "    }\n",
       "</style>\n",
       "<table border=\"1\" class=\"dataframe\">\n",
       "  <thead>\n",
       "    <tr style=\"text-align: right;\">\n",
       "      <th></th>\n",
       "      <th>USD_CAD</th>\n",
       "      <th>USD_AUD</th>\n",
       "    </tr>\n",
       "    <tr>\n",
       "      <th>Date</th>\n",
       "      <th></th>\n",
       "      <th></th>\n",
       "    </tr>\n",
       "  </thead>\n",
       "  <tbody>\n",
       "    <tr>\n",
       "      <th>2021-04-06</th>\n",
       "      <td>1.2566</td>\n",
       "      <td>1.3049</td>\n",
       "    </tr>\n",
       "    <tr>\n",
       "      <th>2021-04-07</th>\n",
       "      <td>1.2609</td>\n",
       "      <td>1.3137</td>\n",
       "    </tr>\n",
       "    <tr>\n",
       "      <th>2021-04-08</th>\n",
       "      <td>1.2562</td>\n",
       "      <td>1.3066</td>\n",
       "    </tr>\n",
       "    <tr>\n",
       "      <th>2021-04-09</th>\n",
       "      <td>1.2530</td>\n",
       "      <td>1.3125</td>\n",
       "    </tr>\n",
       "    <tr>\n",
       "      <th>2021-04-10</th>\n",
       "      <td>1.2530</td>\n",
       "      <td>1.3125</td>\n",
       "    </tr>\n",
       "    <tr>\n",
       "      <th>...</th>\n",
       "      <td>...</td>\n",
       "      <td>...</td>\n",
       "    </tr>\n",
       "    <tr>\n",
       "      <th>2023-08-25</th>\n",
       "      <td>1.3601</td>\n",
       "      <td>1.5616</td>\n",
       "    </tr>\n",
       "    <tr>\n",
       "      <th>2023-08-26</th>\n",
       "      <td>1.3601</td>\n",
       "      <td>1.5616</td>\n",
       "    </tr>\n",
       "    <tr>\n",
       "      <th>2023-08-27</th>\n",
       "      <td>1.3601</td>\n",
       "      <td>1.5616</td>\n",
       "    </tr>\n",
       "    <tr>\n",
       "      <th>2023-08-28</th>\n",
       "      <td>1.3599</td>\n",
       "      <td>1.5554</td>\n",
       "    </tr>\n",
       "    <tr>\n",
       "      <th>2023-08-29</th>\n",
       "      <td>1.3552</td>\n",
       "      <td>1.5431</td>\n",
       "    </tr>\n",
       "  </tbody>\n",
       "</table>\n",
       "<p>876 rows × 2 columns</p>\n",
       "</div>"
      ],
      "text/plain": [
       "            USD_CAD  USD_AUD\n",
       "Date                        \n",
       "2021-04-06   1.2566   1.3049\n",
       "2021-04-07   1.2609   1.3137\n",
       "2021-04-08   1.2562   1.3066\n",
       "2021-04-09   1.2530   1.3125\n",
       "2021-04-10   1.2530   1.3125\n",
       "...             ...      ...\n",
       "2023-08-25   1.3601   1.5616\n",
       "2023-08-26   1.3601   1.5616\n",
       "2023-08-27   1.3601   1.5616\n",
       "2023-08-28   1.3599   1.5554\n",
       "2023-08-29   1.3552   1.5431\n",
       "\n",
       "[876 rows x 2 columns]"
      ]
     },
     "execution_count": 13,
     "metadata": {},
     "output_type": "execute_result"
    }
   ],
   "source": [
    "train"
   ]
  },
  {
   "cell_type": "markdown",
   "metadata": {},
   "source": [
    "### GARCH"
   ]
  },
  {
   "cell_type": "code",
   "execution_count": 32,
   "metadata": {},
   "outputs": [],
   "source": [
    "data = pd.read_csv('../data/trusted/currency_exchange.csv', index_col='Fecha', parse_dates=True)"
   ]
  },
  {
   "cell_type": "code",
   "execution_count": 34,
   "metadata": {},
   "outputs": [],
   "source": [
    "# Sampling\n",
    "data_in_the_sample = data.loc[:\"2023-06-02\", \"USD_AUD\"]\n",
    "data_out_of_the_sample = data.loc[\"2023-06-03\":, \"USD_AUD\"]"
   ]
  },
  {
   "cell_type": "code",
   "execution_count": 36,
   "metadata": {},
   "outputs": [
    {
     "name": "stderr",
     "output_type": "stream",
     "text": [
      "/home/dalopeza/.local/share/virtualenvs/estadistica-avanzada-_iX5znns/lib/python3.11/site-packages/arch/univariate/base.py:311: DataScaleWarning: y is poorly scaled, which may affect convergence of the optimizer when\n",
      "estimating the model parameters. The scale of y is 0.00552. Parameter\n",
      "estimation work better when this value is between 1 and 1000. The recommended\n",
      "rescaling is 10 * y.\n",
      "\n",
      "This warning can be disabled by either rescaling y before initializing the\n",
      "model or by setting rescale=False.\n",
      "\n",
      "  warnings.warn(\n"
     ]
    },
    {
     "name": "stdout",
     "output_type": "stream",
     "text": [
      "          Date  Forecasted Variance\n",
      "0   2023-06-03                  NaN\n",
      "1   2023-06-04                  NaN\n",
      "2   2023-06-05                  NaN\n",
      "3   2023-06-06                  NaN\n",
      "4   2023-06-07                  NaN\n",
      "..         ...                  ...\n",
      "303 2024-04-01                  NaN\n",
      "304 2024-04-02                  NaN\n",
      "305 2024-04-03                  NaN\n",
      "306 2024-04-04                  NaN\n",
      "307 2024-04-05                  NaN\n",
      "\n",
      "[308 rows x 2 columns]\n"
     ]
    }
   ],
   "source": [
    "# Check and convert index to DatetimeIndex if not already\n",
    "data.index = pd.to_datetime(data.index)\n",
    "data_in_the_sample.index = pd.to_datetime(data_in_the_sample.index)\n",
    "data_out_of_the_sample.index = pd.to_datetime(data_out_of_the_sample.index)\n",
    "\n",
    "# Initialize and fit the GARCH model on in-sample data\n",
    "am = arch_model(data_in_the_sample, mean='Constant', vol='Garch', p=1, q=1)\n",
    "res = am.fit(disp='off')\n",
    "\n",
    "# Prepare to store forecasts\n",
    "forecasts = []\n",
    "\n",
    "# Manually create rolling one-step forecasts\n",
    "for date in data_out_of_the_sample.index:\n",
    "    try:\n",
    "        # Generate a forecast\n",
    "        next_forecast = res.forecast(horizon=1, start=date)\n",
    "        # Store the forecasted variance\n",
    "        if not next_forecast.variance.dropna().empty:\n",
    "            forecasted_var = next_forecast.variance.dropna().iloc[0, 0]\n",
    "            forecasts.append(forecasted_var)\n",
    "        else:\n",
    "            # Append np.nan if forecast cannot be generated\n",
    "            forecasts.append(np.nan)\n",
    "    except Exception as e:\n",
    "        print(f\"Error generating forecast for {date}: {e}\")\n",
    "        forecasts.append(np.nan)\n",
    "\n",
    "# Create a DataFrame with the forecasts\n",
    "forecast_df = pd.DataFrame({\n",
    "    'Date': data_out_of_the_sample.index,\n",
    "    'Forecasted Variance': forecasts\n",
    "})\n",
    "\n",
    "# Display the results\n",
    "print(forecast_df)"
   ]
  },
  {
   "cell_type": "markdown",
   "metadata": {},
   "source": [
    "#### USD_AUD Currency Exchange"
   ]
  },
  {
   "cell_type": "code",
   "execution_count": 25,
   "metadata": {},
   "outputs": [],
   "source": [
    "# Defining the GARCH model on the in-sample data\n",
    "am = arch_model(train[\"USD_AUD\"], vol=\"Garch\")  # Specifying p, q for GARCH(1,1)\n"
   ]
  },
  {
   "cell_type": "code",
   "execution_count": 31,
   "metadata": {},
   "outputs": [
    {
     "name": "stderr",
     "output_type": "stream",
     "text": [
      "/home/dalopeza/.local/share/virtualenvs/estadistica-avanzada-_iX5znns/lib/python3.11/site-packages/arch/univariate/base.py:311: DataScaleWarning: y is poorly scaled, which may affect convergence of the optimizer when\n",
      "estimating the model parameters. The scale of y is 0.00552. Parameter\n",
      "estimation work better when this value is between 1 and 1000. The recommended\n",
      "rescaling is 10 * y.\n",
      "\n",
      "This warning can be disabled by either rescaling y before initializing the\n",
      "model or by setting rescale=False.\n",
      "\n",
      "  warnings.warn(\n"
     ]
    },
    {
     "ename": "AssertionError",
     "evalue": "",
     "output_type": "error",
     "traceback": [
      "\u001b[0;31m---------------------------------------------------------------------------\u001b[0m",
      "\u001b[0;31mAssertionError\u001b[0m                            Traceback (most recent call last)",
      "Cell \u001b[0;32mIn[31], line 11\u001b[0m\n\u001b[1;32m      8\u001b[0m \u001b[38;5;66;03m# Manually create rolling one-step forecasts\u001b[39;00m\n\u001b[1;32m      9\u001b[0m \u001b[38;5;28;01mfor\u001b[39;00m i \u001b[38;5;129;01min\u001b[39;00m \u001b[38;5;28mrange\u001b[39m(\u001b[38;5;28mlen\u001b[39m(data_out_of_the_sample)):\n\u001b[1;32m     10\u001b[0m     \u001b[38;5;66;03m# Generate a forecast\u001b[39;00m\n\u001b[0;32m---> 11\u001b[0m     next_forecast \u001b[38;5;241m=\u001b[39m \u001b[43mres\u001b[49m\u001b[38;5;241;43m.\u001b[39;49m\u001b[43mforecast\u001b[49m\u001b[43m(\u001b[49m\u001b[43mhorizon\u001b[49m\u001b[38;5;241;43m=\u001b[39;49m\u001b[38;5;241;43m1\u001b[39;49m\u001b[43m,\u001b[49m\u001b[43m \u001b[49m\u001b[43mstart\u001b[49m\u001b[38;5;241;43m=\u001b[39;49m\u001b[43mdata_out_of_the_sample\u001b[49m\u001b[38;5;241;43m.\u001b[39;49m\u001b[43mindex\u001b[49m\u001b[43m[\u001b[49m\u001b[43mi\u001b[49m\u001b[43m]\u001b[49m\u001b[43m)\u001b[49m\n\u001b[1;32m     12\u001b[0m     \u001b[38;5;66;03m# Store the forecasted variance\u001b[39;00m\n\u001b[1;32m     13\u001b[0m     \u001b[38;5;28;01mif\u001b[39;00m \u001b[38;5;129;01mnot\u001b[39;00m next_forecast\u001b[38;5;241m.\u001b[39mvariance\u001b[38;5;241m.\u001b[39mdropna()\u001b[38;5;241m.\u001b[39mempty:\n",
      "File \u001b[0;32m~/.local/share/virtualenvs/estadistica-avanzada-_iX5znns/lib/python3.11/site-packages/arch/univariate/base.py:1506\u001b[0m, in \u001b[0;36mARCHModelFixedResult.forecast\u001b[0;34m(self, params, horizon, start, align, method, simulations, rng, random_state, reindex, x)\u001b[0m\n\u001b[1;32m   1504\u001b[0m \u001b[38;5;28;01mif\u001b[39;00m \u001b[38;5;129;01mnot\u001b[39;00m \u001b[38;5;28misinstance\u001b[39m(horizon, (\u001b[38;5;28mint\u001b[39m, np\u001b[38;5;241m.\u001b[39minteger)) \u001b[38;5;129;01mor\u001b[39;00m horizon \u001b[38;5;241m<\u001b[39m \u001b[38;5;241m1\u001b[39m:\n\u001b[1;32m   1505\u001b[0m     \u001b[38;5;28;01mraise\u001b[39;00m \u001b[38;5;167;01mValueError\u001b[39;00m(\u001b[38;5;124m\"\u001b[39m\u001b[38;5;124mhorizon must be an integer >= 1.\u001b[39m\u001b[38;5;124m\"\u001b[39m)\n\u001b[0;32m-> 1506\u001b[0m \u001b[38;5;28;01mreturn\u001b[39;00m \u001b[38;5;28;43mself\u001b[39;49m\u001b[38;5;241;43m.\u001b[39;49m\u001b[43mmodel\u001b[49m\u001b[38;5;241;43m.\u001b[39;49m\u001b[43mforecast\u001b[49m\u001b[43m(\u001b[49m\n\u001b[1;32m   1507\u001b[0m \u001b[43m    \u001b[49m\u001b[43mparams\u001b[49m\u001b[43m,\u001b[49m\n\u001b[1;32m   1508\u001b[0m \u001b[43m    \u001b[49m\u001b[43mhorizon\u001b[49m\u001b[43m,\u001b[49m\n\u001b[1;32m   1509\u001b[0m \u001b[43m    \u001b[49m\u001b[43mstart\u001b[49m\u001b[43m,\u001b[49m\n\u001b[1;32m   1510\u001b[0m \u001b[43m    \u001b[49m\u001b[43malign\u001b[49m\u001b[43m,\u001b[49m\n\u001b[1;32m   1511\u001b[0m \u001b[43m    \u001b[49m\u001b[43mmethod\u001b[49m\u001b[43m,\u001b[49m\n\u001b[1;32m   1512\u001b[0m \u001b[43m    \u001b[49m\u001b[43msimulations\u001b[49m\u001b[43m,\u001b[49m\n\u001b[1;32m   1513\u001b[0m \u001b[43m    \u001b[49m\u001b[43mrng\u001b[49m\u001b[43m,\u001b[49m\n\u001b[1;32m   1514\u001b[0m \u001b[43m    \u001b[49m\u001b[43mrandom_state\u001b[49m\u001b[43m,\u001b[49m\n\u001b[1;32m   1515\u001b[0m \u001b[43m    \u001b[49m\u001b[43mreindex\u001b[49m\u001b[38;5;241;43m=\u001b[39;49m\u001b[43mreindex\u001b[49m\u001b[43m,\u001b[49m\n\u001b[1;32m   1516\u001b[0m \u001b[43m    \u001b[49m\u001b[43mx\u001b[49m\u001b[38;5;241;43m=\u001b[39;49m\u001b[43mx\u001b[49m\u001b[43m,\u001b[49m\n\u001b[1;32m   1517\u001b[0m \u001b[43m\u001b[49m\u001b[43m)\u001b[49m\n",
      "File \u001b[0;32m~/.local/share/virtualenvs/estadistica-avanzada-_iX5znns/lib/python3.11/site-packages/arch/univariate/mean.py:956\u001b[0m, in \u001b[0;36mHARX.forecast\u001b[0;34m(self, params, horizon, start, align, method, simulations, rng, random_state, reindex, x)\u001b[0m\n\u001b[1;32m    954\u001b[0m earliest, default_start \u001b[38;5;241m=\u001b[39m \u001b[38;5;28mself\u001b[39m\u001b[38;5;241m.\u001b[39m_fit_indices\n\u001b[1;32m    955\u001b[0m default_start \u001b[38;5;241m=\u001b[39m \u001b[38;5;28mmax\u001b[39m(\u001b[38;5;241m0\u001b[39m, default_start \u001b[38;5;241m-\u001b[39m \u001b[38;5;241m1\u001b[39m)\n\u001b[0;32m--> 956\u001b[0m start_index \u001b[38;5;241m=\u001b[39m \u001b[43mcutoff_to_index\u001b[49m\u001b[43m(\u001b[49m\u001b[43mstart\u001b[49m\u001b[43m,\u001b[49m\u001b[43m \u001b[49m\u001b[38;5;28;43mself\u001b[39;49m\u001b[38;5;241;43m.\u001b[39;49m\u001b[43m_y_series\u001b[49m\u001b[38;5;241;43m.\u001b[39;49m\u001b[43mindex\u001b[49m\u001b[43m,\u001b[49m\u001b[43m \u001b[49m\u001b[43mdefault_start\u001b[49m\u001b[43m)\u001b[49m\n\u001b[1;32m    957\u001b[0m \u001b[38;5;28;01mif\u001b[39;00m start_index \u001b[38;5;241m<\u001b[39m (earliest \u001b[38;5;241m-\u001b[39m \u001b[38;5;241m1\u001b[39m):\n\u001b[1;32m    958\u001b[0m     \u001b[38;5;28;01mraise\u001b[39;00m \u001b[38;5;167;01mValueError\u001b[39;00m(\n\u001b[1;32m    959\u001b[0m         \u001b[38;5;124m\"\u001b[39m\u001b[38;5;124mDue to backcasting and/or data availability start cannot be less \u001b[39m\u001b[38;5;124m\"\u001b[39m\n\u001b[1;32m    960\u001b[0m         \u001b[38;5;124m\"\u001b[39m\u001b[38;5;124mthan the index of the largest value in the right-hand-side \u001b[39m\u001b[38;5;124m\"\u001b[39m\n\u001b[1;32m    961\u001b[0m         \u001b[38;5;124m\"\u001b[39m\u001b[38;5;124mvariables used to fit the first observation.  In this model, \u001b[39m\u001b[38;5;124m\"\u001b[39m\n\u001b[1;32m    962\u001b[0m         \u001b[38;5;124m\"\u001b[39m\u001b[38;5;124mthis value is \u001b[39m\u001b[38;5;132;01m{}\u001b[39;00m\u001b[38;5;124m.\u001b[39m\u001b[38;5;124m\"\u001b[39m\u001b[38;5;241m.\u001b[39mformat(\u001b[38;5;28mmax\u001b[39m(\u001b[38;5;241m0\u001b[39m, earliest \u001b[38;5;241m-\u001b[39m \u001b[38;5;241m1\u001b[39m))\n\u001b[1;32m    963\u001b[0m     )\n",
      "File \u001b[0;32m~/.local/share/virtualenvs/estadistica-avanzada-_iX5znns/lib/python3.11/site-packages/arch/utility/array.py:278\u001b[0m, in \u001b[0;36mcutoff_to_index\u001b[0;34m(cutoff, index, default)\u001b[0m\n\u001b[1;32m    276\u001b[0m int_index \u001b[38;5;241m=\u001b[39m default\n\u001b[1;32m    277\u001b[0m \u001b[38;5;28;01mif\u001b[39;00m \u001b[38;5;28misinstance\u001b[39m(cutoff, (\u001b[38;5;28mstr\u001b[39m, dt\u001b[38;5;241m.\u001b[39mdatetime, np\u001b[38;5;241m.\u001b[39mdatetime64, Timestamp)):\n\u001b[0;32m--> 278\u001b[0m     \u001b[38;5;28;01massert\u001b[39;00m \u001b[38;5;28misinstance\u001b[39m(index, DatetimeIndex)\n\u001b[1;32m    279\u001b[0m     int_index \u001b[38;5;241m=\u001b[39m date_to_index(cutoff, index)\n\u001b[1;32m    280\u001b[0m \u001b[38;5;28;01melif\u001b[39;00m \u001b[38;5;28misinstance\u001b[39m(cutoff, \u001b[38;5;28mint\u001b[39m) \u001b[38;5;129;01mor\u001b[39;00m \u001b[38;5;28missubclass\u001b[39m(cutoff\u001b[38;5;241m.\u001b[39m\u001b[38;5;18m__class__\u001b[39m, np\u001b[38;5;241m.\u001b[39minteger):\n",
      "\u001b[0;31mAssertionError\u001b[0m: "
     ]
    }
   ],
   "source": [
    "# Initialize and fit the GARCH model on in-sample data\n",
    "am = arch_model(data_in_the_sample, mean='Constant', vol='Garch', p=1, q=1)\n",
    "res = am.fit(disp='off')\n",
    "\n",
    "# Prepare to store forecasts\n",
    "forecasts = []\n",
    "\n",
    "# Manually create rolling one-step forecasts\n",
    "for i in range(len(data_out_of_the_sample)):\n",
    "    # Generate a forecast\n",
    "    next_forecast = res.forecast(horizon=1, start=data_out_of_the_sample.index[i])\n",
    "    # Store the forecasted variance\n",
    "    if not next_forecast.variance.dropna().empty:\n",
    "        forecasted_var = next_forecast.variance.dropna().iloc[0, 0]\n",
    "        forecasts.append(forecasted_var)\n",
    "    else:\n",
    "        # Append None or np.nan if forecast cannot be generated\n",
    "        forecasts.append(np.nan)\n",
    "\n",
    "# Create a DataFrame with the forecasts\n",
    "forecast_df = pd.DataFrame({\n",
    "    'Date': data_out_of_the_sample.index,\n",
    "    'Forecasted Variance': forecasts\n",
    "})\n",
    "\n",
    "# Display the results\n",
    "print(forecast_df)"
   ]
  },
  {
   "cell_type": "code",
   "execution_count": 24,
   "metadata": {},
   "outputs": [
    {
     "ename": "AssertionError",
     "evalue": "",
     "output_type": "error",
     "traceback": [
      "\u001b[0;31m---------------------------------------------------------------------------\u001b[0m",
      "\u001b[0;31mAssertionError\u001b[0m                            Traceback (most recent call last)",
      "Cell \u001b[0;32mIn[24], line 4\u001b[0m\n\u001b[1;32m      1\u001b[0m cvar_rjpy_stat \u001b[38;5;241m=\u001b[39m {}\n\u001b[1;32m      2\u001b[0m \u001b[38;5;28;01mfor\u001b[39;00m date \u001b[38;5;129;01min\u001b[39;00m data_out_of_the_sample\u001b[38;5;241m.\u001b[39mindex:\n\u001b[1;32m      3\u001b[0m     \u001b[38;5;66;03m# Fit the model up to 'date' not including 'date'\u001b[39;00m\n\u001b[0;32m----> 4\u001b[0m     res \u001b[38;5;241m=\u001b[39m \u001b[43mam\u001b[49m\u001b[38;5;241;43m.\u001b[39;49m\u001b[43mfit\u001b[49m\u001b[43m(\u001b[49m\u001b[43mlast_obs\u001b[49m\u001b[38;5;241;43m=\u001b[39;49m\u001b[43mpd\u001b[49m\u001b[38;5;241;43m.\u001b[39;49m\u001b[43mTimestamp\u001b[49m\u001b[43m(\u001b[49m\u001b[43mdate\u001b[49m\u001b[43m)\u001b[49m\u001b[43m \u001b[49m\u001b[38;5;241;43m-\u001b[39;49m\u001b[43m \u001b[49m\u001b[43mpd\u001b[49m\u001b[38;5;241;43m.\u001b[39;49m\u001b[43mTimedelta\u001b[49m\u001b[43m(\u001b[49m\u001b[43mdays\u001b[49m\u001b[38;5;241;43m=\u001b[39;49m\u001b[38;5;241;43m1\u001b[39;49m\u001b[43m)\u001b[49m\u001b[43m,\u001b[49m\u001b[43m \u001b[49m\u001b[43mdisp\u001b[49m\u001b[38;5;241;43m=\u001b[39;49m\u001b[38;5;124;43m\"\u001b[39;49m\u001b[38;5;124;43moff\u001b[39;49m\u001b[38;5;124;43m\"\u001b[39;49m\u001b[43m)\u001b[49m\n\u001b[1;32m      5\u001b[0m     \u001b[38;5;66;03m# Forecast the next day\u001b[39;00m\n\u001b[1;32m      6\u001b[0m     forecasts \u001b[38;5;241m=\u001b[39m res\u001b[38;5;241m.\u001b[39mforecast(horizon\u001b[38;5;241m=\u001b[39m\u001b[38;5;241m1\u001b[39m)\n",
      "File \u001b[0;32m~/.local/share/virtualenvs/estadistica-avanzada-_iX5znns/lib/python3.11/site-packages/arch/univariate/base.py:639\u001b[0m, in \u001b[0;36mARCHModel.fit\u001b[0;34m(self, update_freq, disp, starting_values, cov_type, show_warning, first_obs, last_obs, tol, options, backcast)\u001b[0m\n\u001b[1;32m    633\u001b[0m \u001b[38;5;66;03m# Closed form is applicable when model has no parameters\u001b[39;00m\n\u001b[1;32m    634\u001b[0m \u001b[38;5;66;03m# Or when distribution is normal and constant variance\u001b[39;00m\n\u001b[1;32m    635\u001b[0m has_closed_form \u001b[38;5;241m=\u001b[39m (\n\u001b[1;32m    636\u001b[0m     v\u001b[38;5;241m.\u001b[39mclosed_form \u001b[38;5;129;01mand\u001b[39;00m d\u001b[38;5;241m.\u001b[39mnum_params \u001b[38;5;241m==\u001b[39m \u001b[38;5;241m0\u001b[39m \u001b[38;5;129;01mand\u001b[39;00m \u001b[38;5;28misinstance\u001b[39m(v, ConstantVariance)\n\u001b[1;32m    637\u001b[0m )\n\u001b[0;32m--> 639\u001b[0m \u001b[38;5;28;43mself\u001b[39;49m\u001b[38;5;241;43m.\u001b[39;49m\u001b[43m_adjust_sample\u001b[49m\u001b[43m(\u001b[49m\u001b[43mfirst_obs\u001b[49m\u001b[43m,\u001b[49m\u001b[43m \u001b[49m\u001b[43mlast_obs\u001b[49m\u001b[43m)\u001b[49m\n\u001b[1;32m    641\u001b[0m resids \u001b[38;5;241m=\u001b[39m np\u001b[38;5;241m.\u001b[39masarray(\u001b[38;5;28mself\u001b[39m\u001b[38;5;241m.\u001b[39mresids(\u001b[38;5;28mself\u001b[39m\u001b[38;5;241m.\u001b[39mstarting_values()), dtype\u001b[38;5;241m=\u001b[39m\u001b[38;5;28mfloat\u001b[39m)\n\u001b[1;32m    642\u001b[0m \u001b[38;5;28mself\u001b[39m\u001b[38;5;241m.\u001b[39m_check_scale(resids)\n",
      "File \u001b[0;32m~/.local/share/virtualenvs/estadistica-avanzada-_iX5znns/lib/python3.11/site-packages/arch/univariate/mean.py:691\u001b[0m, in \u001b[0;36mHARX._adjust_sample\u001b[0;34m(self, first_obs, last_obs)\u001b[0m\n\u001b[1;32m    689\u001b[0m _first_obs_index \u001b[38;5;241m=\u001b[39m cutoff_to_index(first_obs, index, \u001b[38;5;241m0\u001b[39m)\n\u001b[1;32m    690\u001b[0m _first_obs_index \u001b[38;5;241m+\u001b[39m\u001b[38;5;241m=\u001b[39m \u001b[38;5;28mself\u001b[39m\u001b[38;5;241m.\u001b[39m_hold_back\n\u001b[0;32m--> 691\u001b[0m _last_obs_index \u001b[38;5;241m=\u001b[39m \u001b[43mcutoff_to_index\u001b[49m\u001b[43m(\u001b[49m\u001b[43mlast_obs\u001b[49m\u001b[43m,\u001b[49m\u001b[43m \u001b[49m\u001b[43mindex\u001b[49m\u001b[43m,\u001b[49m\u001b[43m \u001b[49m\u001b[38;5;28;43mself\u001b[39;49m\u001b[38;5;241;43m.\u001b[39;49m\u001b[43m_y\u001b[49m\u001b[38;5;241;43m.\u001b[39;49m\u001b[43mshape\u001b[49m\u001b[43m[\u001b[49m\u001b[38;5;241;43m0\u001b[39;49m\u001b[43m]\u001b[49m\u001b[43m)\u001b[49m\n\u001b[1;32m    692\u001b[0m \u001b[38;5;28;01mif\u001b[39;00m _last_obs_index \u001b[38;5;241m<\u001b[39m\u001b[38;5;241m=\u001b[39m _first_obs_index:\n\u001b[1;32m    693\u001b[0m     \u001b[38;5;28;01mraise\u001b[39;00m \u001b[38;5;167;01mValueError\u001b[39;00m(\u001b[38;5;124m\"\u001b[39m\u001b[38;5;124mfirst_obs and last_obs produce in an empty array.\u001b[39m\u001b[38;5;124m\"\u001b[39m)\n",
      "File \u001b[0;32m~/.local/share/virtualenvs/estadistica-avanzada-_iX5znns/lib/python3.11/site-packages/arch/utility/array.py:278\u001b[0m, in \u001b[0;36mcutoff_to_index\u001b[0;34m(cutoff, index, default)\u001b[0m\n\u001b[1;32m    276\u001b[0m int_index \u001b[38;5;241m=\u001b[39m default\n\u001b[1;32m    277\u001b[0m \u001b[38;5;28;01mif\u001b[39;00m \u001b[38;5;28misinstance\u001b[39m(cutoff, (\u001b[38;5;28mstr\u001b[39m, dt\u001b[38;5;241m.\u001b[39mdatetime, np\u001b[38;5;241m.\u001b[39mdatetime64, Timestamp)):\n\u001b[0;32m--> 278\u001b[0m     \u001b[38;5;28;01massert\u001b[39;00m \u001b[38;5;28misinstance\u001b[39m(index, DatetimeIndex)\n\u001b[1;32m    279\u001b[0m     int_index \u001b[38;5;241m=\u001b[39m date_to_index(cutoff, index)\n\u001b[1;32m    280\u001b[0m \u001b[38;5;28;01melif\u001b[39;00m \u001b[38;5;28misinstance\u001b[39m(cutoff, \u001b[38;5;28mint\u001b[39m) \u001b[38;5;129;01mor\u001b[39;00m \u001b[38;5;28missubclass\u001b[39m(cutoff\u001b[38;5;241m.\u001b[39m\u001b[38;5;18m__class__\u001b[39m, np\u001b[38;5;241m.\u001b[39minteger):\n",
      "\u001b[0;31mAssertionError\u001b[0m: "
     ]
    }
   ],
   "source": [
    "cvar_rjpy_stat = {}\n",
    "for date in data_out_of_the_sample.index:\n",
    "    # Fit the model up to 'date' not including 'date'\n",
    "    res = am.fit(last_obs=pd.Timestamp(date) - pd.Timedelta(days=1), disp=\"off\")\n",
    "    # Forecast the next day\n",
    "    forecasts = res.forecast(horizon=1)\n",
    "    # Since we forecast 1 day, we use iloc[0] to get that forecast\n",
    "    forecasts_res = forecasts.variance.dropna()\n",
    "    if not forecasts_res.empty:\n",
    "        cvar_rjpy_stat[date] = forecasts_res.iloc[0]\n",
    "\n",
    "cvar_rjpy_stat = pd.DataFrame(list(cvar_rjpy_stat.items()), columns=['Date', 'Forecasted Variance'])\n",
    "\n",
    "# Print or inspect the DataFrame\n",
    "print(cvar_rjpy_stat)"
   ]
  },
  {
   "cell_type": "code",
   "execution_count": 87,
   "metadata": {},
   "outputs": [],
   "source": [
    "\n",
    "am = arch_model(train[\"USD_AUD\"], vol=\"Garch\")"
   ]
  },
  {
   "cell_type": "code",
   "execution_count": 88,
   "metadata": {},
   "outputs": [
    {
     "ename": "AssertionError",
     "evalue": "",
     "output_type": "error",
     "traceback": [
      "\u001b[0;31m---------------------------------------------------------------------------\u001b[0m",
      "\u001b[0;31mAssertionError\u001b[0m                            Traceback (most recent call last)",
      "Cell \u001b[0;32mIn[88], line 3\u001b[0m\n\u001b[1;32m      1\u001b[0m cvar_rjpy_stat \u001b[38;5;241m=\u001b[39m {}\n\u001b[1;32m      2\u001b[0m \u001b[38;5;28;01mfor\u001b[39;00m date \u001b[38;5;129;01min\u001b[39;00m data_out_of_the_sample\u001b[38;5;241m.\u001b[39mindex:\n\u001b[0;32m----> 3\u001b[0m     res \u001b[38;5;241m=\u001b[39m \u001b[43mam\u001b[49m\u001b[38;5;241;43m.\u001b[39;49m\u001b[43mfit\u001b[49m\u001b[43m(\u001b[49m\u001b[43mlast_obs\u001b[49m\u001b[38;5;241;43m=\u001b[39;49m\u001b[43mdate\u001b[49m\u001b[43m,\u001b[49m\u001b[43m \u001b[49m\u001b[43mdisp\u001b[49m\u001b[38;5;241;43m=\u001b[39;49m\u001b[38;5;124;43m\"\u001b[39;49m\u001b[38;5;124;43moff\u001b[39;49m\u001b[38;5;124;43m\"\u001b[39;49m\u001b[43m)\u001b[49m\n\u001b[1;32m      4\u001b[0m     forecasts \u001b[38;5;241m=\u001b[39m res\u001b[38;5;241m.\u001b[39mforecast(horizon\u001b[38;5;241m=\u001b[39m\u001b[38;5;241m1\u001b[39m)\n\u001b[1;32m      5\u001b[0m     forecasts_res \u001b[38;5;241m=\u001b[39m forecasts\u001b[38;5;241m.\u001b[39mvariance\u001b[38;5;241m.\u001b[39mdropna()\n",
      "File \u001b[0;32m~/.local/share/virtualenvs/estadistica-avanzada-_iX5znns/lib/python3.11/site-packages/arch/univariate/base.py:639\u001b[0m, in \u001b[0;36mARCHModel.fit\u001b[0;34m(self, update_freq, disp, starting_values, cov_type, show_warning, first_obs, last_obs, tol, options, backcast)\u001b[0m\n\u001b[1;32m    633\u001b[0m \u001b[38;5;66;03m# Closed form is applicable when model has no parameters\u001b[39;00m\n\u001b[1;32m    634\u001b[0m \u001b[38;5;66;03m# Or when distribution is normal and constant variance\u001b[39;00m\n\u001b[1;32m    635\u001b[0m has_closed_form \u001b[38;5;241m=\u001b[39m (\n\u001b[1;32m    636\u001b[0m     v\u001b[38;5;241m.\u001b[39mclosed_form \u001b[38;5;129;01mand\u001b[39;00m d\u001b[38;5;241m.\u001b[39mnum_params \u001b[38;5;241m==\u001b[39m \u001b[38;5;241m0\u001b[39m \u001b[38;5;129;01mand\u001b[39;00m \u001b[38;5;28misinstance\u001b[39m(v, ConstantVariance)\n\u001b[1;32m    637\u001b[0m )\n\u001b[0;32m--> 639\u001b[0m \u001b[38;5;28;43mself\u001b[39;49m\u001b[38;5;241;43m.\u001b[39;49m\u001b[43m_adjust_sample\u001b[49m\u001b[43m(\u001b[49m\u001b[43mfirst_obs\u001b[49m\u001b[43m,\u001b[49m\u001b[43m \u001b[49m\u001b[43mlast_obs\u001b[49m\u001b[43m)\u001b[49m\n\u001b[1;32m    641\u001b[0m resids \u001b[38;5;241m=\u001b[39m np\u001b[38;5;241m.\u001b[39masarray(\u001b[38;5;28mself\u001b[39m\u001b[38;5;241m.\u001b[39mresids(\u001b[38;5;28mself\u001b[39m\u001b[38;5;241m.\u001b[39mstarting_values()), dtype\u001b[38;5;241m=\u001b[39m\u001b[38;5;28mfloat\u001b[39m)\n\u001b[1;32m    642\u001b[0m \u001b[38;5;28mself\u001b[39m\u001b[38;5;241m.\u001b[39m_check_scale(resids)\n",
      "File \u001b[0;32m~/.local/share/virtualenvs/estadistica-avanzada-_iX5znns/lib/python3.11/site-packages/arch/univariate/mean.py:691\u001b[0m, in \u001b[0;36mHARX._adjust_sample\u001b[0;34m(self, first_obs, last_obs)\u001b[0m\n\u001b[1;32m    689\u001b[0m _first_obs_index \u001b[38;5;241m=\u001b[39m cutoff_to_index(first_obs, index, \u001b[38;5;241m0\u001b[39m)\n\u001b[1;32m    690\u001b[0m _first_obs_index \u001b[38;5;241m+\u001b[39m\u001b[38;5;241m=\u001b[39m \u001b[38;5;28mself\u001b[39m\u001b[38;5;241m.\u001b[39m_hold_back\n\u001b[0;32m--> 691\u001b[0m _last_obs_index \u001b[38;5;241m=\u001b[39m \u001b[43mcutoff_to_index\u001b[49m\u001b[43m(\u001b[49m\u001b[43mlast_obs\u001b[49m\u001b[43m,\u001b[49m\u001b[43m \u001b[49m\u001b[43mindex\u001b[49m\u001b[43m,\u001b[49m\u001b[43m \u001b[49m\u001b[38;5;28;43mself\u001b[39;49m\u001b[38;5;241;43m.\u001b[39;49m\u001b[43m_y\u001b[49m\u001b[38;5;241;43m.\u001b[39;49m\u001b[43mshape\u001b[49m\u001b[43m[\u001b[49m\u001b[38;5;241;43m0\u001b[39;49m\u001b[43m]\u001b[49m\u001b[43m)\u001b[49m\n\u001b[1;32m    692\u001b[0m \u001b[38;5;28;01mif\u001b[39;00m _last_obs_index \u001b[38;5;241m<\u001b[39m\u001b[38;5;241m=\u001b[39m _first_obs_index:\n\u001b[1;32m    693\u001b[0m     \u001b[38;5;28;01mraise\u001b[39;00m \u001b[38;5;167;01mValueError\u001b[39;00m(\u001b[38;5;124m\"\u001b[39m\u001b[38;5;124mfirst_obs and last_obs produce in an empty array.\u001b[39m\u001b[38;5;124m\"\u001b[39m)\n",
      "File \u001b[0;32m~/.local/share/virtualenvs/estadistica-avanzada-_iX5znns/lib/python3.11/site-packages/arch/utility/array.py:278\u001b[0m, in \u001b[0;36mcutoff_to_index\u001b[0;34m(cutoff, index, default)\u001b[0m\n\u001b[1;32m    276\u001b[0m int_index \u001b[38;5;241m=\u001b[39m default\n\u001b[1;32m    277\u001b[0m \u001b[38;5;28;01mif\u001b[39;00m \u001b[38;5;28misinstance\u001b[39m(cutoff, (\u001b[38;5;28mstr\u001b[39m, dt\u001b[38;5;241m.\u001b[39mdatetime, np\u001b[38;5;241m.\u001b[39mdatetime64, Timestamp)):\n\u001b[0;32m--> 278\u001b[0m     \u001b[38;5;28;01massert\u001b[39;00m \u001b[38;5;28misinstance\u001b[39m(index, DatetimeIndex)\n\u001b[1;32m    279\u001b[0m     int_index \u001b[38;5;241m=\u001b[39m date_to_index(cutoff, index)\n\u001b[1;32m    280\u001b[0m \u001b[38;5;28;01melif\u001b[39;00m \u001b[38;5;28misinstance\u001b[39m(cutoff, \u001b[38;5;28mint\u001b[39m) \u001b[38;5;129;01mor\u001b[39;00m \u001b[38;5;28missubclass\u001b[39m(cutoff\u001b[38;5;241m.\u001b[39m\u001b[38;5;18m__class__\u001b[39m, np\u001b[38;5;241m.\u001b[39minteger):\n",
      "\u001b[0;31mAssertionError\u001b[0m: "
     ]
    }
   ],
   "source": [
    "cvar_rjpy_stat = {}\n",
    "for date in data_out_of_the_sample.index:\n",
    "    res = am.fit(last_obs=date, disp=\"off\")\n",
    "    forecasts = res.forecast(horizon=1)\n",
    "    forecasts_res = forecasts.variance.dropna()\n",
    "    cvar_rjpy_stat[date] = forecasts_res.iloc[1]\n",
    "\n",
    "cvar_rjpy_stat = pd.DataFrame(cvar_rjpy_stat).T"
   ]
  },
  {
   "cell_type": "code",
   "execution_count": 59,
   "metadata": {},
   "outputs": [
    {
     "name": "stderr",
     "output_type": "stream",
     "text": [
      "/home/dalopeza/.local/share/virtualenvs/estadistica-avanzada-_iX5znns/lib/python3.11/site-packages/arch/univariate/base.py:311: DataScaleWarning:\n",
      "\n",
      "y is poorly scaled, which may affect convergence of the optimizer when\n",
      "estimating the model parameters. The scale of y is 0.002192. Parameter\n",
      "estimation work better when this value is between 1 and 1000. The recommended\n",
      "rescaling is 10 * y.\n",
      "\n",
      "This warning can be disabled by either rescaling y before initializing the\n",
      "model or by setting rescale=False.\n",
      "\n",
      "\n"
     ]
    },
    {
     "data": {
      "application/vnd.plotly.v1+json": {
       "config": {
        "plotlyServerURL": "https://plot.ly"
       },
       "data": [
        {
         "hovertemplate": "variable=Actual<br>index=%{x}<br>value=%{y}<extra></extra>",
         "legendgroup": "Actual",
         "line": {
          "color": "#636efa",
          "dash": "solid"
         },
         "marker": {
          "symbol": "circle"
         },
         "mode": "lines",
         "name": "Actual",
         "orientation": "v",
         "showlegend": true,
         "type": "scatter",
         "x": [
          876,
          877,
          878,
          879,
          880,
          881,
          882,
          883,
          884,
          885,
          886,
          887,
          888,
          889,
          890,
          891,
          892,
          893,
          894,
          895,
          896,
          897,
          898,
          899,
          900,
          901,
          902,
          903,
          904,
          905,
          906,
          907,
          908,
          909,
          910,
          911,
          912,
          913,
          914,
          915,
          916,
          917,
          918,
          919,
          920,
          921,
          922,
          923,
          924,
          925,
          926,
          927,
          928,
          929,
          930,
          931,
          932,
          933,
          934,
          935,
          936,
          937,
          938,
          939,
          940,
          941,
          942,
          943,
          944,
          945,
          946,
          947,
          948,
          949,
          950,
          951,
          952,
          953,
          954,
          955,
          956,
          957,
          958,
          959,
          960,
          961,
          962,
          963,
          964,
          965,
          966,
          967,
          968,
          969,
          970,
          971,
          972,
          973,
          974,
          975,
          976,
          977,
          978,
          979,
          980,
          981,
          982,
          983,
          984,
          985,
          986,
          987,
          988,
          989,
          990,
          991,
          992,
          993,
          994,
          995,
          996,
          997,
          998,
          999,
          1000,
          1001,
          1002,
          1003,
          1004,
          1005,
          1006,
          1007,
          1008,
          1009,
          1010,
          1011,
          1012,
          1013,
          1014,
          1015,
          1016,
          1017,
          1018,
          1019,
          1020,
          1021,
          1022,
          1023,
          1024,
          1025,
          1026,
          1027,
          1028,
          1029,
          1030,
          1031,
          1032,
          1033,
          1034,
          1035,
          1036,
          1037,
          1038,
          1039,
          1040,
          1041,
          1042,
          1043,
          1044,
          1045,
          1046,
          1047,
          1048,
          1049,
          1050,
          1051,
          1052,
          1053,
          1054,
          1055,
          1056,
          1057,
          1058,
          1059,
          1060,
          1061,
          1062,
          1063,
          1064,
          1065,
          1066,
          1067,
          1068,
          1069,
          1070,
          1071,
          1072,
          1073,
          1074,
          1075,
          1076,
          1077,
          1078,
          1079,
          1080,
          1081,
          1082,
          1083,
          1084,
          1085,
          1086,
          1087,
          1088,
          1089,
          1090,
          1091,
          1092,
          1093,
          1094,
          1095
         ],
         "xaxis": "x",
         "y": [
          1.3532,
          1.3508,
          1.3592,
          1.3592,
          1.3592,
          1.3591,
          1.3642,
          1.3636,
          1.3685,
          1.364,
          1.364,
          1.364,
          1.3573,
          1.3553,
          1.3549,
          1.3508,
          1.3525,
          1.3525,
          1.3525,
          1.3486,
          1.3448,
          1.3462,
          1.3483,
          1.3483,
          1.3483,
          1.3483,
          1.3454,
          1.3517,
          1.3498,
          1.3487,
          1.3577,
          1.3577,
          1.3577,
          1.3676,
          1.3708,
          1.3745,
          1.3705,
          1.3661,
          1.3661,
          1.3661,
          1.359,
          1.3583,
          1.3593,
          1.369,
          1.366,
          1.366,
          1.366,
          1.3611,
          1.3648,
          1.3716,
          1.3719,
          1.3715,
          1.3715,
          1.3715,
          1.3691,
          1.3741,
          1.3797,
          1.3831,
          1.387,
          1.387,
          1.387,
          1.3826,
          1.3875,
          1.3856,
          1.3739,
          1.3658,
          1.3658,
          1.3658,
          1.37,
          1.3767,
          1.3792,
          1.3808,
          1.3801,
          1.3801,
          1.3801,
          1.3805,
          1.3693,
          1.3683,
          1.3755,
          1.3723,
          1.3723,
          1.3723,
          1.3725,
          1.3701,
          1.3687,
          1.3696,
          1.3636,
          1.3636,
          1.3636,
          1.3616,
          1.3574,
          1.3589,
          1.3561,
          1.3497,
          1.3497,
          1.3497,
          1.3537,
          1.3592,
          1.3593,
          1.3599,
          1.3583,
          1.3583,
          1.3583,
          1.3574,
          1.3591,
          1.3518,
          1.3407,
          1.338,
          1.338,
          1.338,
          1.3399,
          1.3333,
          1.3369,
          1.3283,
          1.327,
          1.327,
          1.327,
          1.3257,
          1.3195,
          1.3208,
          1.3229,
          1.3243,
          1.3243,
          1.3243,
          1.3239,
          1.3321,
          1.3353,
          1.335,
          1.3363,
          1.3363,
          1.3363,
          1.3348,
          1.339,
          1.3381,
          1.3395,
          1.341,
          1.341,
          1.341,
          1.3428,
          1.3495,
          1.3506,
          1.3487,
          1.3429,
          1.3429,
          1.3429,
          1.3479,
          1.3462,
          1.3524,
          1.3475,
          1.3453,
          1.3453,
          1.3453,
          1.3414,
          1.3398,
          1.3435,
          1.3386,
          1.3463,
          1.3463,
          1.3463,
          1.354,
          1.3492,
          1.3463,
          1.3458,
          1.346,
          1.346,
          1.346,
          1.3451,
          1.3564,
          1.3544,
          1.3465,
          1.3485,
          1.3485,
          1.3485,
          1.3491,
          1.3523,
          1.3506,
          1.3482,
          1.3505,
          1.3505,
          1.3505,
          1.3505,
          1.3528,
          1.3577,
          1.3579,
          1.3561,
          1.3561,
          1.3561,
          1.3574,
          1.3593,
          1.3514,
          1.3459,
          1.3483,
          1.3483,
          1.3483,
          1.3483,
          1.3491,
          1.3471,
          1.3533,
          1.3542,
          1.3542,
          1.3542,
          1.3534,
          1.3567,
          1.3492,
          1.3531,
          1.3604,
          1.3604,
          1.3604,
          1.3586,
          1.3584,
          1.3568,
          1.354,
          1.354,
          1.354,
          1.354,
          1.357,
          1.3567,
          1.3527,
          1.3543,
          1.359
         ],
         "yaxis": "y"
        },
        {
         "hovertemplate": "variable=Predicted<br>index=%{x}<br>value=%{y}<extra></extra>",
         "legendgroup": "Predicted",
         "line": {
          "color": "#EF553B",
          "dash": "solid"
         },
         "marker": {
          "symbol": "circle"
         },
         "mode": "lines",
         "name": "Predicted",
         "orientation": "v",
         "showlegend": true,
         "type": "scatter",
         "x": [
          876,
          877,
          878,
          879,
          880,
          881,
          882,
          883,
          884,
          885,
          886,
          887,
          888,
          889,
          890,
          891,
          892,
          893,
          894,
          895,
          896,
          897,
          898,
          899,
          900,
          901,
          902,
          903,
          904,
          905,
          906,
          907,
          908,
          909,
          910,
          911,
          912,
          913,
          914,
          915,
          916,
          917,
          918,
          919,
          920,
          921,
          922,
          923,
          924,
          925,
          926,
          927,
          928,
          929,
          930,
          931,
          932,
          933,
          934,
          935,
          936,
          937,
          938,
          939,
          940,
          941,
          942,
          943,
          944,
          945,
          946,
          947,
          948,
          949,
          950,
          951,
          952,
          953,
          954,
          955,
          956,
          957,
          958,
          959,
          960,
          961,
          962,
          963,
          964,
          965,
          966,
          967,
          968,
          969,
          970,
          971,
          972,
          973,
          974,
          975,
          976,
          977,
          978,
          979,
          980,
          981,
          982,
          983,
          984,
          985,
          986,
          987,
          988,
          989,
          990,
          991,
          992,
          993,
          994,
          995,
          996,
          997,
          998,
          999,
          1000,
          1001,
          1002,
          1003,
          1004,
          1005,
          1006,
          1007,
          1008,
          1009,
          1010,
          1011,
          1012,
          1013,
          1014,
          1015,
          1016,
          1017,
          1018,
          1019,
          1020,
          1021,
          1022,
          1023,
          1024,
          1025,
          1026,
          1027,
          1028,
          1029,
          1030,
          1031,
          1032,
          1033,
          1034,
          1035,
          1036,
          1037,
          1038,
          1039,
          1040,
          1041,
          1042,
          1043,
          1044,
          1045,
          1046,
          1047,
          1048,
          1049,
          1050,
          1051,
          1052,
          1053,
          1054,
          1055,
          1056,
          1057,
          1058,
          1059,
          1060,
          1061,
          1062,
          1063,
          1064,
          1065,
          1066,
          1067,
          1068,
          1069,
          1070,
          1071,
          1072,
          1073,
          1074,
          1075,
          1076,
          1077,
          1078,
          1079,
          1080,
          1081,
          1082,
          1083,
          1084,
          1085,
          1086,
          1087,
          1088,
          1089,
          1090,
          1091,
          1092,
          1093,
          1094,
          1095
         ],
         "xaxis": "x",
         "y": [
          0.08075774418997235,
          0.08022036705670728,
          0.07969022462615584,
          0.07916724358690458,
          0.07865135111091695,
          0.07814247484746122,
          0.07764054291724715,
          0.07714548390677231,
          0.07665722686287835,
          0.07617570128751747,
          0.0757008371327295,
          0.07523256479582915,
          0.07477081511480332,
          0.07431551936391789,
          0.07386660924953335,
          0.07342401690612817,
          0.07298767489252893,
          0.07255751618834573,
          0.07213347419061127,
          0.07171548271062175,
          0.07130347597097778,
          0.07089738860282252,
          0.07049715564327508,
          0.07010271253305611,
          0.06971399511430275,
          0.06933093962856973,
          0.06895348271501336,
          0.06858156140875454,
          0.0682151131394173,
          0.06785407572983869,
          0.06749838739494575,
          0.06714798674079533,
          0.06680281276377219,
          0.06646280484994029,
          0.06612790277454283,
          0.06579804670164562,
          0.06547317718391855,
          0.06515323516255002,
          0.06483816196728846,
          0.06452789931660573,
          0.06422238931797612,
          0.0639215744682657,
          0.06362539765422548,
          0.06333380215308286,
          0.06304673163322488,
          0.06276413015496748,
          0.06248594217140423,
          0.06221211252932858,
          0.06194258647022323,
          0.06167730963131042,
          0.06141622804665686,
          0.06115928814832711,
          0.060906436767579106,
          0.0606576211360958,
          0.06041278888724659,
          0.06017188805737269,
          0.05993486708709029,
          0.059701674822605647,
          0.05947226051703629,
          0.0592465738317326,
          0.05902456483759424,
          0.058806184016375704,
          0.058591382261976015,
          0.05838011088170698,
          0.05817232159753509,
          0.05796796654729222,
          0.05776699828585016,
          0.05756936978625456,
          0.05737503444081372,
          0.057183946062138113,
          0.056996058884126434,
          0.05681132756289438,
          0.056629707177642395,
          0.056451153231458946,
          0.05627562165205593,
          0.05610306879243321,
          0.05593345143146921,
          0.055766726774435026,
          0.05560285245342935,
          0.05544178652773206,
          0.05528348748407418,
          0.055127914236822464,
          0.05497502612807671,
          0.0548247829276784,
          0.054677144833129195,
          0.0545320724694183,
          0.05438952688875753,
          0.0542494695702235,
          0.05411186241930615,
          0.053976667767363304,
          0.05384384837098095,
          0.05371336741123915,
          0.0535851884928837,
          0.05345927564340365,
          0.05333559331201524,
          0.053214106368552574,
          0.053094780102265884,
          0.052977580220528044,
          0.05286247284745035,
          0.05274942452240855,
          0.05263840219848041,
          0.05252937324079591,
          0.05242230542480162,
          0.05231716693444073,
          0.052213926360250164,
          0.05211255269737665,
          0.052013015343513304,
          0.051915284096758725,
          0.051819329153400345,
          0.05172512110562406,
          0.051632630939152185,
          0.051541830030811725,
          0.05145269014603512,
          0.05136518343629563,
          0.05127928243647958,
          0.051194960062197474,
          0.05111218960703664,
          0.051030944739757236,
          0.05095119950143422,
          0.050872928302547415,
          0.05079610592002207,
          0.05072070749422213,
          0.05064670852589874,
          0.05057408487309594,
          0.05050281274801625,
          0.050432868713848104,
          0.05036422968155768,
          0.0502968729066472,
          0.050230775985881944,
          0.050165916853988406,
          0.05010227378032551,
          0.050039825365531226,
          0.04997855053814669,
          0.049918428551219876,
          0.04985943897889095,
          0.04980156171296135,
          0.049744776959448476,
          0.04968906523512812,
          0.049634407364066394,
          0.049580784474143116,
          0.04952817799356849,
          0.04947656964739482,
          0.04942594145402504,
          0.049376275721719744,
          0.049327555045104395,
          0.04927976230167826,
          0.04923288064832672,
          0.049186893517838386,
          0.049141784615428556,
          0.04909753791527035,
          0.04905413765703499,
          0.049011568342442496,
          0.0489698147318241,
          0.04892886184069758,
          0.04888869493635668,
          0.04884929953447589,
          0.048810661395731515,
          0.04877276652244013,
          0.04873560115521551,
          0.0486991517696449,
          0.04866340507298554,
          0.048628348000882414,
          0.048593967714107913,
          0.048560251595324365,
          0.04852718724587003,
          0.04849476248256934,
          0.0484629653345681,
          0.04843178404019416,
          0.04840120704384428,
          0.048371222992897665,
          0.04834182073465672,
          0.04831298931331547,
          0.04828471796695622,
          0.04825699612457471,
          0.04822981340313426,
          0.04820315960464924,
          0.048177024713298204,
          0.04815139889256688,
          0.04812627248242148,
          0.04810163599651239,
          0.04807748011940853,
          0.048053795703862555,
          0.0480305737681071,
          0.04800780549318211,
          0.04798548222029349,
          0.047963595448203084,
          0.047942136830650045,
          0.04792109817380369,
          0.04790047143374789,
          0.04788024871399691,
          0.04786042226304276,
          0.04784098447193403,
          0.04782192787188614,
          0.04780324513192294,
          0.047784929056549595,
          0.04776697258345669,
          0.04774936878125538,
          0.04773211084724355,
          0.04771519210520275,
          0.04769860600322594,
          0.047682346111575576,
          0.04766640612057227,
          0.047650779838513464,
          0.047635461189622245,
          0.04762044421202583,
          0.047605723055763764,
          0.047591291980825415,
          0.04757714535521666,
          0.04756327765305551,
          0.04754968345269637,
          0.04753635743488286,
          0.0475232943809287,
          0.047510489170926616,
          0.04749793678198495,
          0.04748563228649159,
          0.0474735708504052,
          0.047461747731573176,
          0.047450158278076304,
          0.04743879792659972,
          0.04742766220082984
         ],
         "yaxis": "y"
        }
       ],
       "layout": {
        "legend": {
         "title": {
          "text": "variable"
         },
         "tracegroupgap": 0
        },
        "template": {
         "data": {
          "bar": [
           {
            "error_x": {
             "color": "#2a3f5f"
            },
            "error_y": {
             "color": "#2a3f5f"
            },
            "marker": {
             "line": {
              "color": "#E5ECF6",
              "width": 0.5
             },
             "pattern": {
              "fillmode": "overlay",
              "size": 10,
              "solidity": 0.2
             }
            },
            "type": "bar"
           }
          ],
          "barpolar": [
           {
            "marker": {
             "line": {
              "color": "#E5ECF6",
              "width": 0.5
             },
             "pattern": {
              "fillmode": "overlay",
              "size": 10,
              "solidity": 0.2
             }
            },
            "type": "barpolar"
           }
          ],
          "carpet": [
           {
            "aaxis": {
             "endlinecolor": "#2a3f5f",
             "gridcolor": "white",
             "linecolor": "white",
             "minorgridcolor": "white",
             "startlinecolor": "#2a3f5f"
            },
            "baxis": {
             "endlinecolor": "#2a3f5f",
             "gridcolor": "white",
             "linecolor": "white",
             "minorgridcolor": "white",
             "startlinecolor": "#2a3f5f"
            },
            "type": "carpet"
           }
          ],
          "choropleth": [
           {
            "colorbar": {
             "outlinewidth": 0,
             "ticks": ""
            },
            "type": "choropleth"
           }
          ],
          "contour": [
           {
            "colorbar": {
             "outlinewidth": 0,
             "ticks": ""
            },
            "colorscale": [
             [
              0,
              "#0d0887"
             ],
             [
              0.1111111111111111,
              "#46039f"
             ],
             [
              0.2222222222222222,
              "#7201a8"
             ],
             [
              0.3333333333333333,
              "#9c179e"
             ],
             [
              0.4444444444444444,
              "#bd3786"
             ],
             [
              0.5555555555555556,
              "#d8576b"
             ],
             [
              0.6666666666666666,
              "#ed7953"
             ],
             [
              0.7777777777777778,
              "#fb9f3a"
             ],
             [
              0.8888888888888888,
              "#fdca26"
             ],
             [
              1,
              "#f0f921"
             ]
            ],
            "type": "contour"
           }
          ],
          "contourcarpet": [
           {
            "colorbar": {
             "outlinewidth": 0,
             "ticks": ""
            },
            "type": "contourcarpet"
           }
          ],
          "heatmap": [
           {
            "colorbar": {
             "outlinewidth": 0,
             "ticks": ""
            },
            "colorscale": [
             [
              0,
              "#0d0887"
             ],
             [
              0.1111111111111111,
              "#46039f"
             ],
             [
              0.2222222222222222,
              "#7201a8"
             ],
             [
              0.3333333333333333,
              "#9c179e"
             ],
             [
              0.4444444444444444,
              "#bd3786"
             ],
             [
              0.5555555555555556,
              "#d8576b"
             ],
             [
              0.6666666666666666,
              "#ed7953"
             ],
             [
              0.7777777777777778,
              "#fb9f3a"
             ],
             [
              0.8888888888888888,
              "#fdca26"
             ],
             [
              1,
              "#f0f921"
             ]
            ],
            "type": "heatmap"
           }
          ],
          "heatmapgl": [
           {
            "colorbar": {
             "outlinewidth": 0,
             "ticks": ""
            },
            "colorscale": [
             [
              0,
              "#0d0887"
             ],
             [
              0.1111111111111111,
              "#46039f"
             ],
             [
              0.2222222222222222,
              "#7201a8"
             ],
             [
              0.3333333333333333,
              "#9c179e"
             ],
             [
              0.4444444444444444,
              "#bd3786"
             ],
             [
              0.5555555555555556,
              "#d8576b"
             ],
             [
              0.6666666666666666,
              "#ed7953"
             ],
             [
              0.7777777777777778,
              "#fb9f3a"
             ],
             [
              0.8888888888888888,
              "#fdca26"
             ],
             [
              1,
              "#f0f921"
             ]
            ],
            "type": "heatmapgl"
           }
          ],
          "histogram": [
           {
            "marker": {
             "pattern": {
              "fillmode": "overlay",
              "size": 10,
              "solidity": 0.2
             }
            },
            "type": "histogram"
           }
          ],
          "histogram2d": [
           {
            "colorbar": {
             "outlinewidth": 0,
             "ticks": ""
            },
            "colorscale": [
             [
              0,
              "#0d0887"
             ],
             [
              0.1111111111111111,
              "#46039f"
             ],
             [
              0.2222222222222222,
              "#7201a8"
             ],
             [
              0.3333333333333333,
              "#9c179e"
             ],
             [
              0.4444444444444444,
              "#bd3786"
             ],
             [
              0.5555555555555556,
              "#d8576b"
             ],
             [
              0.6666666666666666,
              "#ed7953"
             ],
             [
              0.7777777777777778,
              "#fb9f3a"
             ],
             [
              0.8888888888888888,
              "#fdca26"
             ],
             [
              1,
              "#f0f921"
             ]
            ],
            "type": "histogram2d"
           }
          ],
          "histogram2dcontour": [
           {
            "colorbar": {
             "outlinewidth": 0,
             "ticks": ""
            },
            "colorscale": [
             [
              0,
              "#0d0887"
             ],
             [
              0.1111111111111111,
              "#46039f"
             ],
             [
              0.2222222222222222,
              "#7201a8"
             ],
             [
              0.3333333333333333,
              "#9c179e"
             ],
             [
              0.4444444444444444,
              "#bd3786"
             ],
             [
              0.5555555555555556,
              "#d8576b"
             ],
             [
              0.6666666666666666,
              "#ed7953"
             ],
             [
              0.7777777777777778,
              "#fb9f3a"
             ],
             [
              0.8888888888888888,
              "#fdca26"
             ],
             [
              1,
              "#f0f921"
             ]
            ],
            "type": "histogram2dcontour"
           }
          ],
          "mesh3d": [
           {
            "colorbar": {
             "outlinewidth": 0,
             "ticks": ""
            },
            "type": "mesh3d"
           }
          ],
          "parcoords": [
           {
            "line": {
             "colorbar": {
              "outlinewidth": 0,
              "ticks": ""
             }
            },
            "type": "parcoords"
           }
          ],
          "pie": [
           {
            "automargin": true,
            "type": "pie"
           }
          ],
          "scatter": [
           {
            "fillpattern": {
             "fillmode": "overlay",
             "size": 10,
             "solidity": 0.2
            },
            "type": "scatter"
           }
          ],
          "scatter3d": [
           {
            "line": {
             "colorbar": {
              "outlinewidth": 0,
              "ticks": ""
             }
            },
            "marker": {
             "colorbar": {
              "outlinewidth": 0,
              "ticks": ""
             }
            },
            "type": "scatter3d"
           }
          ],
          "scattercarpet": [
           {
            "marker": {
             "colorbar": {
              "outlinewidth": 0,
              "ticks": ""
             }
            },
            "type": "scattercarpet"
           }
          ],
          "scattergeo": [
           {
            "marker": {
             "colorbar": {
              "outlinewidth": 0,
              "ticks": ""
             }
            },
            "type": "scattergeo"
           }
          ],
          "scattergl": [
           {
            "marker": {
             "colorbar": {
              "outlinewidth": 0,
              "ticks": ""
             }
            },
            "type": "scattergl"
           }
          ],
          "scattermapbox": [
           {
            "marker": {
             "colorbar": {
              "outlinewidth": 0,
              "ticks": ""
             }
            },
            "type": "scattermapbox"
           }
          ],
          "scatterpolar": [
           {
            "marker": {
             "colorbar": {
              "outlinewidth": 0,
              "ticks": ""
             }
            },
            "type": "scatterpolar"
           }
          ],
          "scatterpolargl": [
           {
            "marker": {
             "colorbar": {
              "outlinewidth": 0,
              "ticks": ""
             }
            },
            "type": "scatterpolargl"
           }
          ],
          "scatterternary": [
           {
            "marker": {
             "colorbar": {
              "outlinewidth": 0,
              "ticks": ""
             }
            },
            "type": "scatterternary"
           }
          ],
          "surface": [
           {
            "colorbar": {
             "outlinewidth": 0,
             "ticks": ""
            },
            "colorscale": [
             [
              0,
              "#0d0887"
             ],
             [
              0.1111111111111111,
              "#46039f"
             ],
             [
              0.2222222222222222,
              "#7201a8"
             ],
             [
              0.3333333333333333,
              "#9c179e"
             ],
             [
              0.4444444444444444,
              "#bd3786"
             ],
             [
              0.5555555555555556,
              "#d8576b"
             ],
             [
              0.6666666666666666,
              "#ed7953"
             ],
             [
              0.7777777777777778,
              "#fb9f3a"
             ],
             [
              0.8888888888888888,
              "#fdca26"
             ],
             [
              1,
              "#f0f921"
             ]
            ],
            "type": "surface"
           }
          ],
          "table": [
           {
            "cells": {
             "fill": {
              "color": "#EBF0F8"
             },
             "line": {
              "color": "white"
             }
            },
            "header": {
             "fill": {
              "color": "#C8D4E3"
             },
             "line": {
              "color": "white"
             }
            },
            "type": "table"
           }
          ]
         },
         "layout": {
          "annotationdefaults": {
           "arrowcolor": "#2a3f5f",
           "arrowhead": 0,
           "arrowwidth": 1
          },
          "autotypenumbers": "strict",
          "coloraxis": {
           "colorbar": {
            "outlinewidth": 0,
            "ticks": ""
           }
          },
          "colorscale": {
           "diverging": [
            [
             0,
             "#8e0152"
            ],
            [
             0.1,
             "#c51b7d"
            ],
            [
             0.2,
             "#de77ae"
            ],
            [
             0.3,
             "#f1b6da"
            ],
            [
             0.4,
             "#fde0ef"
            ],
            [
             0.5,
             "#f7f7f7"
            ],
            [
             0.6,
             "#e6f5d0"
            ],
            [
             0.7,
             "#b8e186"
            ],
            [
             0.8,
             "#7fbc41"
            ],
            [
             0.9,
             "#4d9221"
            ],
            [
             1,
             "#276419"
            ]
           ],
           "sequential": [
            [
             0,
             "#0d0887"
            ],
            [
             0.1111111111111111,
             "#46039f"
            ],
            [
             0.2222222222222222,
             "#7201a8"
            ],
            [
             0.3333333333333333,
             "#9c179e"
            ],
            [
             0.4444444444444444,
             "#bd3786"
            ],
            [
             0.5555555555555556,
             "#d8576b"
            ],
            [
             0.6666666666666666,
             "#ed7953"
            ],
            [
             0.7777777777777778,
             "#fb9f3a"
            ],
            [
             0.8888888888888888,
             "#fdca26"
            ],
            [
             1,
             "#f0f921"
            ]
           ],
           "sequentialminus": [
            [
             0,
             "#0d0887"
            ],
            [
             0.1111111111111111,
             "#46039f"
            ],
            [
             0.2222222222222222,
             "#7201a8"
            ],
            [
             0.3333333333333333,
             "#9c179e"
            ],
            [
             0.4444444444444444,
             "#bd3786"
            ],
            [
             0.5555555555555556,
             "#d8576b"
            ],
            [
             0.6666666666666666,
             "#ed7953"
            ],
            [
             0.7777777777777778,
             "#fb9f3a"
            ],
            [
             0.8888888888888888,
             "#fdca26"
            ],
            [
             1,
             "#f0f921"
            ]
           ]
          },
          "colorway": [
           "#636efa",
           "#EF553B",
           "#00cc96",
           "#ab63fa",
           "#FFA15A",
           "#19d3f3",
           "#FF6692",
           "#B6E880",
           "#FF97FF",
           "#FECB52"
          ],
          "font": {
           "color": "#2a3f5f"
          },
          "geo": {
           "bgcolor": "white",
           "lakecolor": "white",
           "landcolor": "#E5ECF6",
           "showlakes": true,
           "showland": true,
           "subunitcolor": "white"
          },
          "hoverlabel": {
           "align": "left"
          },
          "hovermode": "closest",
          "mapbox": {
           "style": "light"
          },
          "paper_bgcolor": "white",
          "plot_bgcolor": "#E5ECF6",
          "polar": {
           "angularaxis": {
            "gridcolor": "white",
            "linecolor": "white",
            "ticks": ""
           },
           "bgcolor": "#E5ECF6",
           "radialaxis": {
            "gridcolor": "white",
            "linecolor": "white",
            "ticks": ""
           }
          },
          "scene": {
           "xaxis": {
            "backgroundcolor": "#E5ECF6",
            "gridcolor": "white",
            "gridwidth": 2,
            "linecolor": "white",
            "showbackground": true,
            "ticks": "",
            "zerolinecolor": "white"
           },
           "yaxis": {
            "backgroundcolor": "#E5ECF6",
            "gridcolor": "white",
            "gridwidth": 2,
            "linecolor": "white",
            "showbackground": true,
            "ticks": "",
            "zerolinecolor": "white"
           },
           "zaxis": {
            "backgroundcolor": "#E5ECF6",
            "gridcolor": "white",
            "gridwidth": 2,
            "linecolor": "white",
            "showbackground": true,
            "ticks": "",
            "zerolinecolor": "white"
           }
          },
          "shapedefaults": {
           "line": {
            "color": "#2a3f5f"
           }
          },
          "ternary": {
           "aaxis": {
            "gridcolor": "white",
            "linecolor": "white",
            "ticks": ""
           },
           "baxis": {
            "gridcolor": "white",
            "linecolor": "white",
            "ticks": ""
           },
           "bgcolor": "#E5ECF6",
           "caxis": {
            "gridcolor": "white",
            "linecolor": "white",
            "ticks": ""
           }
          },
          "title": {
           "x": 0.05
          },
          "xaxis": {
           "automargin": true,
           "gridcolor": "white",
           "linecolor": "white",
           "ticks": "",
           "title": {
            "standoff": 15
           },
           "zerolinecolor": "white",
           "zerolinewidth": 2
          },
          "yaxis": {
           "automargin": true,
           "gridcolor": "white",
           "linecolor": "white",
           "ticks": "",
           "title": {
            "standoff": 15
           },
           "zerolinecolor": "white",
           "zerolinewidth": 2
          }
         }
        },
        "title": {
         "text": "Actual vs Predicted Volatility"
        },
        "xaxis": {
         "anchor": "y",
         "domain": [
          0,
          1
         ],
         "title": {
          "text": "Date"
         }
        },
        "yaxis": {
         "anchor": "x",
         "domain": [
          0,
          1
         ],
         "title": {
          "text": "Volatility"
         }
        }
       }
      },
      "text/html": [
       "<div>                            <div id=\"d6bfd5a1-637f-4dbf-a8d8-07161abda5cd\" class=\"plotly-graph-div\" style=\"height:525px; width:100%;\"></div>            <script type=\"text/javascript\">                require([\"plotly\"], function(Plotly) {                    window.PLOTLYENV=window.PLOTLYENV || {};                                    if (document.getElementById(\"d6bfd5a1-637f-4dbf-a8d8-07161abda5cd\")) {                    Plotly.newPlot(                        \"d6bfd5a1-637f-4dbf-a8d8-07161abda5cd\",                        [{\"hovertemplate\":\"variable=Actual\\u003cbr\\u003eindex=%{x}\\u003cbr\\u003evalue=%{y}\\u003cextra\\u003e\\u003c\\u002fextra\\u003e\",\"legendgroup\":\"Actual\",\"line\":{\"color\":\"#636efa\",\"dash\":\"solid\"},\"marker\":{\"symbol\":\"circle\"},\"mode\":\"lines\",\"name\":\"Actual\",\"orientation\":\"v\",\"showlegend\":true,\"x\":[876,877,878,879,880,881,882,883,884,885,886,887,888,889,890,891,892,893,894,895,896,897,898,899,900,901,902,903,904,905,906,907,908,909,910,911,912,913,914,915,916,917,918,919,920,921,922,923,924,925,926,927,928,929,930,931,932,933,934,935,936,937,938,939,940,941,942,943,944,945,946,947,948,949,950,951,952,953,954,955,956,957,958,959,960,961,962,963,964,965,966,967,968,969,970,971,972,973,974,975,976,977,978,979,980,981,982,983,984,985,986,987,988,989,990,991,992,993,994,995,996,997,998,999,1000,1001,1002,1003,1004,1005,1006,1007,1008,1009,1010,1011,1012,1013,1014,1015,1016,1017,1018,1019,1020,1021,1022,1023,1024,1025,1026,1027,1028,1029,1030,1031,1032,1033,1034,1035,1036,1037,1038,1039,1040,1041,1042,1043,1044,1045,1046,1047,1048,1049,1050,1051,1052,1053,1054,1055,1056,1057,1058,1059,1060,1061,1062,1063,1064,1065,1066,1067,1068,1069,1070,1071,1072,1073,1074,1075,1076,1077,1078,1079,1080,1081,1082,1083,1084,1085,1086,1087,1088,1089,1090,1091,1092,1093,1094,1095],\"xaxis\":\"x\",\"y\":[1.3532,1.3508,1.3592,1.3592,1.3592,1.3591,1.3642,1.3636,1.3685,1.364,1.364,1.364,1.3573,1.3553,1.3549,1.3508,1.3525,1.3525,1.3525,1.3486,1.3448,1.3462,1.3483,1.3483,1.3483,1.3483,1.3454,1.3517,1.3498,1.3487,1.3577,1.3577,1.3577,1.3676,1.3708,1.3745,1.3705,1.3661,1.3661,1.3661,1.359,1.3583,1.3593,1.369,1.366,1.366,1.366,1.3611,1.3648,1.3716,1.3719,1.3715,1.3715,1.3715,1.3691,1.3741,1.3797,1.3831,1.387,1.387,1.387,1.3826,1.3875,1.3856,1.3739,1.3658,1.3658,1.3658,1.37,1.3767,1.3792,1.3808,1.3801,1.3801,1.3801,1.3805,1.3693,1.3683,1.3755,1.3723,1.3723,1.3723,1.3725,1.3701,1.3687,1.3696,1.3636,1.3636,1.3636,1.3616,1.3574,1.3589,1.3561,1.3497,1.3497,1.3497,1.3537,1.3592,1.3593,1.3599,1.3583,1.3583,1.3583,1.3574,1.3591,1.3518,1.3407,1.338,1.338,1.338,1.3399,1.3333,1.3369,1.3283,1.327,1.327,1.327,1.3257,1.3195,1.3208,1.3229,1.3243,1.3243,1.3243,1.3239,1.3321,1.3353,1.335,1.3363,1.3363,1.3363,1.3348,1.339,1.3381,1.3395,1.341,1.341,1.341,1.3428,1.3495,1.3506,1.3487,1.3429,1.3429,1.3429,1.3479,1.3462,1.3524,1.3475,1.3453,1.3453,1.3453,1.3414,1.3398,1.3435,1.3386,1.3463,1.3463,1.3463,1.354,1.3492,1.3463,1.3458,1.346,1.346,1.346,1.3451,1.3564,1.3544,1.3465,1.3485,1.3485,1.3485,1.3491,1.3523,1.3506,1.3482,1.3505,1.3505,1.3505,1.3505,1.3528,1.3577,1.3579,1.3561,1.3561,1.3561,1.3574,1.3593,1.3514,1.3459,1.3483,1.3483,1.3483,1.3483,1.3491,1.3471,1.3533,1.3542,1.3542,1.3542,1.3534,1.3567,1.3492,1.3531,1.3604,1.3604,1.3604,1.3586,1.3584,1.3568,1.354,1.354,1.354,1.354,1.357,1.3567,1.3527,1.3543,1.359],\"yaxis\":\"y\",\"type\":\"scatter\"},{\"hovertemplate\":\"variable=Predicted\\u003cbr\\u003eindex=%{x}\\u003cbr\\u003evalue=%{y}\\u003cextra\\u003e\\u003c\\u002fextra\\u003e\",\"legendgroup\":\"Predicted\",\"line\":{\"color\":\"#EF553B\",\"dash\":\"solid\"},\"marker\":{\"symbol\":\"circle\"},\"mode\":\"lines\",\"name\":\"Predicted\",\"orientation\":\"v\",\"showlegend\":true,\"x\":[876,877,878,879,880,881,882,883,884,885,886,887,888,889,890,891,892,893,894,895,896,897,898,899,900,901,902,903,904,905,906,907,908,909,910,911,912,913,914,915,916,917,918,919,920,921,922,923,924,925,926,927,928,929,930,931,932,933,934,935,936,937,938,939,940,941,942,943,944,945,946,947,948,949,950,951,952,953,954,955,956,957,958,959,960,961,962,963,964,965,966,967,968,969,970,971,972,973,974,975,976,977,978,979,980,981,982,983,984,985,986,987,988,989,990,991,992,993,994,995,996,997,998,999,1000,1001,1002,1003,1004,1005,1006,1007,1008,1009,1010,1011,1012,1013,1014,1015,1016,1017,1018,1019,1020,1021,1022,1023,1024,1025,1026,1027,1028,1029,1030,1031,1032,1033,1034,1035,1036,1037,1038,1039,1040,1041,1042,1043,1044,1045,1046,1047,1048,1049,1050,1051,1052,1053,1054,1055,1056,1057,1058,1059,1060,1061,1062,1063,1064,1065,1066,1067,1068,1069,1070,1071,1072,1073,1074,1075,1076,1077,1078,1079,1080,1081,1082,1083,1084,1085,1086,1087,1088,1089,1090,1091,1092,1093,1094,1095],\"xaxis\":\"x\",\"y\":[0.08075774418997235,0.08022036705670728,0.07969022462615584,0.07916724358690458,0.07865135111091695,0.07814247484746122,0.07764054291724715,0.07714548390677231,0.07665722686287835,0.07617570128751747,0.0757008371327295,0.07523256479582915,0.07477081511480332,0.07431551936391789,0.07386660924953335,0.07342401690612817,0.07298767489252893,0.07255751618834573,0.07213347419061127,0.07171548271062175,0.07130347597097778,0.07089738860282252,0.07049715564327508,0.07010271253305611,0.06971399511430275,0.06933093962856973,0.06895348271501336,0.06858156140875454,0.0682151131394173,0.06785407572983869,0.06749838739494575,0.06714798674079533,0.06680281276377219,0.06646280484994029,0.06612790277454283,0.06579804670164562,0.06547317718391855,0.06515323516255002,0.06483816196728846,0.06452789931660573,0.06422238931797612,0.0639215744682657,0.06362539765422548,0.06333380215308286,0.06304673163322488,0.06276413015496748,0.06248594217140423,0.06221211252932858,0.06194258647022323,0.06167730963131042,0.06141622804665686,0.06115928814832711,0.060906436767579106,0.0606576211360958,0.06041278888724659,0.06017188805737269,0.05993486708709029,0.059701674822605647,0.05947226051703629,0.0592465738317326,0.05902456483759424,0.058806184016375704,0.058591382261976015,0.05838011088170698,0.05817232159753509,0.05796796654729222,0.05776699828585016,0.05756936978625456,0.05737503444081372,0.057183946062138113,0.056996058884126434,0.05681132756289438,0.056629707177642395,0.056451153231458946,0.05627562165205593,0.05610306879243321,0.05593345143146921,0.055766726774435026,0.05560285245342935,0.05544178652773206,0.05528348748407418,0.055127914236822464,0.05497502612807671,0.0548247829276784,0.054677144833129195,0.0545320724694183,0.05438952688875753,0.0542494695702235,0.05411186241930615,0.053976667767363304,0.05384384837098095,0.05371336741123915,0.0535851884928837,0.05345927564340365,0.05333559331201524,0.053214106368552574,0.053094780102265884,0.052977580220528044,0.05286247284745035,0.05274942452240855,0.05263840219848041,0.05252937324079591,0.05242230542480162,0.05231716693444073,0.052213926360250164,0.05211255269737665,0.052013015343513304,0.051915284096758725,0.051819329153400345,0.05172512110562406,0.051632630939152185,0.051541830030811725,0.05145269014603512,0.05136518343629563,0.05127928243647958,0.051194960062197474,0.05111218960703664,0.051030944739757236,0.05095119950143422,0.050872928302547415,0.05079610592002207,0.05072070749422213,0.05064670852589874,0.05057408487309594,0.05050281274801625,0.050432868713848104,0.05036422968155768,0.0502968729066472,0.050230775985881944,0.050165916853988406,0.05010227378032551,0.050039825365531226,0.04997855053814669,0.049918428551219876,0.04985943897889095,0.04980156171296135,0.049744776959448476,0.04968906523512812,0.049634407364066394,0.049580784474143116,0.04952817799356849,0.04947656964739482,0.04942594145402504,0.049376275721719744,0.049327555045104395,0.04927976230167826,0.04923288064832672,0.049186893517838386,0.049141784615428556,0.04909753791527035,0.04905413765703499,0.049011568342442496,0.0489698147318241,0.04892886184069758,0.04888869493635668,0.04884929953447589,0.048810661395731515,0.04877276652244013,0.04873560115521551,0.0486991517696449,0.04866340507298554,0.048628348000882414,0.048593967714107913,0.048560251595324365,0.04852718724587003,0.04849476248256934,0.0484629653345681,0.04843178404019416,0.04840120704384428,0.048371222992897665,0.04834182073465672,0.04831298931331547,0.04828471796695622,0.04825699612457471,0.04822981340313426,0.04820315960464924,0.048177024713298204,0.04815139889256688,0.04812627248242148,0.04810163599651239,0.04807748011940853,0.048053795703862555,0.0480305737681071,0.04800780549318211,0.04798548222029349,0.047963595448203084,0.047942136830650045,0.04792109817380369,0.04790047143374789,0.04788024871399691,0.04786042226304276,0.04784098447193403,0.04782192787188614,0.04780324513192294,0.047784929056549595,0.04776697258345669,0.04774936878125538,0.04773211084724355,0.04771519210520275,0.04769860600322594,0.047682346111575576,0.04766640612057227,0.047650779838513464,0.047635461189622245,0.04762044421202583,0.047605723055763764,0.047591291980825415,0.04757714535521666,0.04756327765305551,0.04754968345269637,0.04753635743488286,0.0475232943809287,0.047510489170926616,0.04749793678198495,0.04748563228649159,0.0474735708504052,0.047461747731573176,0.047450158278076304,0.04743879792659972,0.04742766220082984],\"yaxis\":\"y\",\"type\":\"scatter\"}],                        {\"template\":{\"data\":{\"histogram2dcontour\":[{\"type\":\"histogram2dcontour\",\"colorbar\":{\"outlinewidth\":0,\"ticks\":\"\"},\"colorscale\":[[0.0,\"#0d0887\"],[0.1111111111111111,\"#46039f\"],[0.2222222222222222,\"#7201a8\"],[0.3333333333333333,\"#9c179e\"],[0.4444444444444444,\"#bd3786\"],[0.5555555555555556,\"#d8576b\"],[0.6666666666666666,\"#ed7953\"],[0.7777777777777778,\"#fb9f3a\"],[0.8888888888888888,\"#fdca26\"],[1.0,\"#f0f921\"]]}],\"choropleth\":[{\"type\":\"choropleth\",\"colorbar\":{\"outlinewidth\":0,\"ticks\":\"\"}}],\"histogram2d\":[{\"type\":\"histogram2d\",\"colorbar\":{\"outlinewidth\":0,\"ticks\":\"\"},\"colorscale\":[[0.0,\"#0d0887\"],[0.1111111111111111,\"#46039f\"],[0.2222222222222222,\"#7201a8\"],[0.3333333333333333,\"#9c179e\"],[0.4444444444444444,\"#bd3786\"],[0.5555555555555556,\"#d8576b\"],[0.6666666666666666,\"#ed7953\"],[0.7777777777777778,\"#fb9f3a\"],[0.8888888888888888,\"#fdca26\"],[1.0,\"#f0f921\"]]}],\"heatmap\":[{\"type\":\"heatmap\",\"colorbar\":{\"outlinewidth\":0,\"ticks\":\"\"},\"colorscale\":[[0.0,\"#0d0887\"],[0.1111111111111111,\"#46039f\"],[0.2222222222222222,\"#7201a8\"],[0.3333333333333333,\"#9c179e\"],[0.4444444444444444,\"#bd3786\"],[0.5555555555555556,\"#d8576b\"],[0.6666666666666666,\"#ed7953\"],[0.7777777777777778,\"#fb9f3a\"],[0.8888888888888888,\"#fdca26\"],[1.0,\"#f0f921\"]]}],\"heatmapgl\":[{\"type\":\"heatmapgl\",\"colorbar\":{\"outlinewidth\":0,\"ticks\":\"\"},\"colorscale\":[[0.0,\"#0d0887\"],[0.1111111111111111,\"#46039f\"],[0.2222222222222222,\"#7201a8\"],[0.3333333333333333,\"#9c179e\"],[0.4444444444444444,\"#bd3786\"],[0.5555555555555556,\"#d8576b\"],[0.6666666666666666,\"#ed7953\"],[0.7777777777777778,\"#fb9f3a\"],[0.8888888888888888,\"#fdca26\"],[1.0,\"#f0f921\"]]}],\"contourcarpet\":[{\"type\":\"contourcarpet\",\"colorbar\":{\"outlinewidth\":0,\"ticks\":\"\"}}],\"contour\":[{\"type\":\"contour\",\"colorbar\":{\"outlinewidth\":0,\"ticks\":\"\"},\"colorscale\":[[0.0,\"#0d0887\"],[0.1111111111111111,\"#46039f\"],[0.2222222222222222,\"#7201a8\"],[0.3333333333333333,\"#9c179e\"],[0.4444444444444444,\"#bd3786\"],[0.5555555555555556,\"#d8576b\"],[0.6666666666666666,\"#ed7953\"],[0.7777777777777778,\"#fb9f3a\"],[0.8888888888888888,\"#fdca26\"],[1.0,\"#f0f921\"]]}],\"surface\":[{\"type\":\"surface\",\"colorbar\":{\"outlinewidth\":0,\"ticks\":\"\"},\"colorscale\":[[0.0,\"#0d0887\"],[0.1111111111111111,\"#46039f\"],[0.2222222222222222,\"#7201a8\"],[0.3333333333333333,\"#9c179e\"],[0.4444444444444444,\"#bd3786\"],[0.5555555555555556,\"#d8576b\"],[0.6666666666666666,\"#ed7953\"],[0.7777777777777778,\"#fb9f3a\"],[0.8888888888888888,\"#fdca26\"],[1.0,\"#f0f921\"]]}],\"mesh3d\":[{\"type\":\"mesh3d\",\"colorbar\":{\"outlinewidth\":0,\"ticks\":\"\"}}],\"scatter\":[{\"fillpattern\":{\"fillmode\":\"overlay\",\"size\":10,\"solidity\":0.2},\"type\":\"scatter\"}],\"parcoords\":[{\"type\":\"parcoords\",\"line\":{\"colorbar\":{\"outlinewidth\":0,\"ticks\":\"\"}}}],\"scatterpolargl\":[{\"type\":\"scatterpolargl\",\"marker\":{\"colorbar\":{\"outlinewidth\":0,\"ticks\":\"\"}}}],\"bar\":[{\"error_x\":{\"color\":\"#2a3f5f\"},\"error_y\":{\"color\":\"#2a3f5f\"},\"marker\":{\"line\":{\"color\":\"#E5ECF6\",\"width\":0.5},\"pattern\":{\"fillmode\":\"overlay\",\"size\":10,\"solidity\":0.2}},\"type\":\"bar\"}],\"scattergeo\":[{\"type\":\"scattergeo\",\"marker\":{\"colorbar\":{\"outlinewidth\":0,\"ticks\":\"\"}}}],\"scatterpolar\":[{\"type\":\"scatterpolar\",\"marker\":{\"colorbar\":{\"outlinewidth\":0,\"ticks\":\"\"}}}],\"histogram\":[{\"marker\":{\"pattern\":{\"fillmode\":\"overlay\",\"size\":10,\"solidity\":0.2}},\"type\":\"histogram\"}],\"scattergl\":[{\"type\":\"scattergl\",\"marker\":{\"colorbar\":{\"outlinewidth\":0,\"ticks\":\"\"}}}],\"scatter3d\":[{\"type\":\"scatter3d\",\"line\":{\"colorbar\":{\"outlinewidth\":0,\"ticks\":\"\"}},\"marker\":{\"colorbar\":{\"outlinewidth\":0,\"ticks\":\"\"}}}],\"scattermapbox\":[{\"type\":\"scattermapbox\",\"marker\":{\"colorbar\":{\"outlinewidth\":0,\"ticks\":\"\"}}}],\"scatterternary\":[{\"type\":\"scatterternary\",\"marker\":{\"colorbar\":{\"outlinewidth\":0,\"ticks\":\"\"}}}],\"scattercarpet\":[{\"type\":\"scattercarpet\",\"marker\":{\"colorbar\":{\"outlinewidth\":0,\"ticks\":\"\"}}}],\"carpet\":[{\"aaxis\":{\"endlinecolor\":\"#2a3f5f\",\"gridcolor\":\"white\",\"linecolor\":\"white\",\"minorgridcolor\":\"white\",\"startlinecolor\":\"#2a3f5f\"},\"baxis\":{\"endlinecolor\":\"#2a3f5f\",\"gridcolor\":\"white\",\"linecolor\":\"white\",\"minorgridcolor\":\"white\",\"startlinecolor\":\"#2a3f5f\"},\"type\":\"carpet\"}],\"table\":[{\"cells\":{\"fill\":{\"color\":\"#EBF0F8\"},\"line\":{\"color\":\"white\"}},\"header\":{\"fill\":{\"color\":\"#C8D4E3\"},\"line\":{\"color\":\"white\"}},\"type\":\"table\"}],\"barpolar\":[{\"marker\":{\"line\":{\"color\":\"#E5ECF6\",\"width\":0.5},\"pattern\":{\"fillmode\":\"overlay\",\"size\":10,\"solidity\":0.2}},\"type\":\"barpolar\"}],\"pie\":[{\"automargin\":true,\"type\":\"pie\"}]},\"layout\":{\"autotypenumbers\":\"strict\",\"colorway\":[\"#636efa\",\"#EF553B\",\"#00cc96\",\"#ab63fa\",\"#FFA15A\",\"#19d3f3\",\"#FF6692\",\"#B6E880\",\"#FF97FF\",\"#FECB52\"],\"font\":{\"color\":\"#2a3f5f\"},\"hovermode\":\"closest\",\"hoverlabel\":{\"align\":\"left\"},\"paper_bgcolor\":\"white\",\"plot_bgcolor\":\"#E5ECF6\",\"polar\":{\"bgcolor\":\"#E5ECF6\",\"angularaxis\":{\"gridcolor\":\"white\",\"linecolor\":\"white\",\"ticks\":\"\"},\"radialaxis\":{\"gridcolor\":\"white\",\"linecolor\":\"white\",\"ticks\":\"\"}},\"ternary\":{\"bgcolor\":\"#E5ECF6\",\"aaxis\":{\"gridcolor\":\"white\",\"linecolor\":\"white\",\"ticks\":\"\"},\"baxis\":{\"gridcolor\":\"white\",\"linecolor\":\"white\",\"ticks\":\"\"},\"caxis\":{\"gridcolor\":\"white\",\"linecolor\":\"white\",\"ticks\":\"\"}},\"coloraxis\":{\"colorbar\":{\"outlinewidth\":0,\"ticks\":\"\"}},\"colorscale\":{\"sequential\":[[0.0,\"#0d0887\"],[0.1111111111111111,\"#46039f\"],[0.2222222222222222,\"#7201a8\"],[0.3333333333333333,\"#9c179e\"],[0.4444444444444444,\"#bd3786\"],[0.5555555555555556,\"#d8576b\"],[0.6666666666666666,\"#ed7953\"],[0.7777777777777778,\"#fb9f3a\"],[0.8888888888888888,\"#fdca26\"],[1.0,\"#f0f921\"]],\"sequentialminus\":[[0.0,\"#0d0887\"],[0.1111111111111111,\"#46039f\"],[0.2222222222222222,\"#7201a8\"],[0.3333333333333333,\"#9c179e\"],[0.4444444444444444,\"#bd3786\"],[0.5555555555555556,\"#d8576b\"],[0.6666666666666666,\"#ed7953\"],[0.7777777777777778,\"#fb9f3a\"],[0.8888888888888888,\"#fdca26\"],[1.0,\"#f0f921\"]],\"diverging\":[[0,\"#8e0152\"],[0.1,\"#c51b7d\"],[0.2,\"#de77ae\"],[0.3,\"#f1b6da\"],[0.4,\"#fde0ef\"],[0.5,\"#f7f7f7\"],[0.6,\"#e6f5d0\"],[0.7,\"#b8e186\"],[0.8,\"#7fbc41\"],[0.9,\"#4d9221\"],[1,\"#276419\"]]},\"xaxis\":{\"gridcolor\":\"white\",\"linecolor\":\"white\",\"ticks\":\"\",\"title\":{\"standoff\":15},\"zerolinecolor\":\"white\",\"automargin\":true,\"zerolinewidth\":2},\"yaxis\":{\"gridcolor\":\"white\",\"linecolor\":\"white\",\"ticks\":\"\",\"title\":{\"standoff\":15},\"zerolinecolor\":\"white\",\"automargin\":true,\"zerolinewidth\":2},\"scene\":{\"xaxis\":{\"backgroundcolor\":\"#E5ECF6\",\"gridcolor\":\"white\",\"linecolor\":\"white\",\"showbackground\":true,\"ticks\":\"\",\"zerolinecolor\":\"white\",\"gridwidth\":2},\"yaxis\":{\"backgroundcolor\":\"#E5ECF6\",\"gridcolor\":\"white\",\"linecolor\":\"white\",\"showbackground\":true,\"ticks\":\"\",\"zerolinecolor\":\"white\",\"gridwidth\":2},\"zaxis\":{\"backgroundcolor\":\"#E5ECF6\",\"gridcolor\":\"white\",\"linecolor\":\"white\",\"showbackground\":true,\"ticks\":\"\",\"zerolinecolor\":\"white\",\"gridwidth\":2}},\"shapedefaults\":{\"line\":{\"color\":\"#2a3f5f\"}},\"annotationdefaults\":{\"arrowcolor\":\"#2a3f5f\",\"arrowhead\":0,\"arrowwidth\":1},\"geo\":{\"bgcolor\":\"white\",\"landcolor\":\"#E5ECF6\",\"subunitcolor\":\"white\",\"showland\":true,\"showlakes\":true,\"lakecolor\":\"white\"},\"title\":{\"x\":0.05},\"mapbox\":{\"style\":\"light\"}}},\"xaxis\":{\"anchor\":\"y\",\"domain\":[0.0,1.0],\"title\":{\"text\":\"Date\"}},\"yaxis\":{\"anchor\":\"x\",\"domain\":[0.0,1.0],\"title\":{\"text\":\"Volatility\"}},\"legend\":{\"title\":{\"text\":\"variable\"},\"tracegroupgap\":0},\"title\":{\"text\":\"Actual vs Predicted Volatility\"}},                        {\"responsive\": true}                    ).then(function(){\n",
       "                            \n",
       "var gd = document.getElementById('d6bfd5a1-637f-4dbf-a8d8-07161abda5cd');\n",
       "var x = new MutationObserver(function (mutations, observer) {{\n",
       "        var display = window.getComputedStyle(gd).display;\n",
       "        if (!display || display === 'none') {{\n",
       "            console.log([gd, 'removed!']);\n",
       "            Plotly.purge(gd);\n",
       "            observer.disconnect();\n",
       "        }}\n",
       "}});\n",
       "\n",
       "// Listen for the removal of the full notebook cells\n",
       "var notebookContainer = gd.closest('#notebook-container');\n",
       "if (notebookContainer) {{\n",
       "    x.observe(notebookContainer, {childList: true});\n",
       "}}\n",
       "\n",
       "// Listen for the clearing of the current output cell\n",
       "var outputEl = gd.closest('.output');\n",
       "if (outputEl) {{\n",
       "    x.observe(outputEl, {childList: true});\n",
       "}}\n",
       "\n",
       "                        })                };                });            </script>        </div>"
      ]
     },
     "metadata": {},
     "output_type": "display_data"
    },
    {
     "name": "stdout",
     "output_type": "stream",
     "text": [
      "MSE: 1.6874974154229538\n",
      "MAE: 1.2989650088729885\n",
      "MAPE: 0.9589942910871211\n"
     ]
    }
   ],
   "source": [
    "\n",
    "# Define the GARCH model\n",
    "model = arch_model(train[\"USD_AUD\"], vol='GARCH')\n",
    "\n",
    "# Fit the model\n",
    "fitted_model = model.fit()\n",
    "\n",
    "# Forecast the test set\n",
    "test_pred = fitted_model.forecast(horizon=len(test))\n",
    "predicted_volatility = np.sqrt(test_pred.variance.dropna().values[-1])\n",
    "\n",
    "# Ensure the index of predicted_volatility aligns with the test set\n",
    "predicted_volatility = pd.Series(predicted_volatility, index=test.index)\n",
    "\n",
    "# Create a DataFrame for plotting\n",
    "results_df = pd.DataFrame({\n",
    "    'Actual': test,\n",
    "    'Predicted': predicted_volatility\n",
    "})\n",
    "\n",
    "# Plot using Plotly Express\n",
    "fig = px.line(results_df, title='Actual vs Predicted Volatility')\n",
    "fig.update_xaxes(title_text='Date')\n",
    "fig.update_yaxes(title_text='Volatility')\n",
    "fig.show()\n",
    "\n",
    "# Calculate MSE, MAE, and MAPE\n",
    "mse = mean_squared_error(test, predicted_volatility)\n",
    "mae = mean_absolute_error(test, predicted_volatility)\n",
    "mape = mean_absolute_percentage_error(test, predicted_volatility)\n",
    "\n",
    "print('MSE:', mse)\n",
    "print('MAE:', mae)\n",
    "print('MAPE:', mape)"
   ]
  }
 ],
 "metadata": {
  "kernelspec": {
   "display_name": "estadistica-avanzada-_iX5znns",
   "language": "python",
   "name": "python3"
  },
  "language_info": {
   "codemirror_mode": {
    "name": "ipython",
    "version": 3
   },
   "file_extension": ".py",
   "mimetype": "text/x-python",
   "name": "python",
   "nbconvert_exporter": "python",
   "pygments_lexer": "ipython3",
   "version": "3.11.5"
  }
 },
 "nbformat": 4,
 "nbformat_minor": 2
}
