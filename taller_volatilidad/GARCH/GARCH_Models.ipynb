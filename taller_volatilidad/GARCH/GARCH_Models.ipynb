{
 "cells": [
  {
   "cell_type": "markdown",
   "metadata": {},
   "source": [
    "#  Modelación Volatilidad en Tasas de Cambio con modelos de la familia GARCH\n",
    "\n",
    "**Objetivo**: El objetivo de este Notebook es implementar modelos clásicos de volatilidad como GARCH (Generalized ARCH Models), y EGARCH (Exponential GARCH) y GJR para predecir la tasa de cambio entre monedas.\n",
    "\n",
    "**Descripción Dataset**: El dataset utilizado contiene la información histórica entre \"2021-04-06\" y \"2024-04-06\" con frecuencia diaria para las siguientes tasas de cambio:\n",
    "- `Dolar EstadoUnidense` (USD) contra `Dolar Canadiende` (CAD)\n",
    "- `Dolar EstadoUnidense` (USD) contra `Dolar Australiano` (CAD)\n",
    "\n",
    "**Métricas de evaluación de modelos**: \n",
    "- `Mean Squared Error (MSE)`\n",
    "- `Mean Absolute Error (MAE)`\n",
    "- `Mean Absolute Percentage Error (MAPE)`\n",
    "\n",
    "**Integrantes**\n",
    "- David López\n",
    "- Camilo Velez\n",
    "- Sebastian Ávila\n",
    "- David Armendariz"
   ]
  },
  {
   "cell_type": "markdown",
   "metadata": {},
   "source": [
    "## Importando Librerías"
   ]
  },
  {
   "cell_type": "code",
   "execution_count": 7,
   "metadata": {},
   "outputs": [],
   "source": [
    "import plotly.express as px\n",
    "import matplotlib.pyplot as plt\n",
    "from statsmodels.stats.diagnostic import het_arch\n",
    "from statsmodels.compat import lzip\n",
    "import statsmodels.api as sm\n",
    "import pandas as pd\n",
    "import numpy as np\n",
    "from arch import arch_model"
   ]
  },
  {
   "cell_type": "markdown",
   "metadata": {},
   "source": [
    "## Cargando DataSet"
   ]
  },
  {
   "cell_type": "code",
   "execution_count": 5,
   "metadata": {},
   "outputs": [
    {
     "name": "stdout",
     "output_type": "stream",
     "text": [
      "Fecha       object\n",
      "USD_CAD    float64\n",
      "USD_AUD    float64\n",
      "dtype: object\n",
      "(1096, 3)\n"
     ]
    },
    {
     "data": {
      "text/html": [
       "<div>\n",
       "<style scoped>\n",
       "    .dataframe tbody tr th:only-of-type {\n",
       "        vertical-align: middle;\n",
       "    }\n",
       "\n",
       "    .dataframe tbody tr th {\n",
       "        vertical-align: top;\n",
       "    }\n",
       "\n",
       "    .dataframe thead th {\n",
       "        text-align: right;\n",
       "    }\n",
       "</style>\n",
       "<table border=\"1\" class=\"dataframe\">\n",
       "  <thead>\n",
       "    <tr style=\"text-align: right;\">\n",
       "      <th></th>\n",
       "      <th>Fecha</th>\n",
       "      <th>USD_CAD</th>\n",
       "      <th>USD_AUD</th>\n",
       "    </tr>\n",
       "  </thead>\n",
       "  <tbody>\n",
       "    <tr>\n",
       "      <th>0</th>\n",
       "      <td>2021-04-06</td>\n",
       "      <td>1.2566</td>\n",
       "      <td>1.3049</td>\n",
       "    </tr>\n",
       "    <tr>\n",
       "      <th>1</th>\n",
       "      <td>2021-04-07</td>\n",
       "      <td>1.2609</td>\n",
       "      <td>1.3137</td>\n",
       "    </tr>\n",
       "    <tr>\n",
       "      <th>2</th>\n",
       "      <td>2021-04-08</td>\n",
       "      <td>1.2562</td>\n",
       "      <td>1.3066</td>\n",
       "    </tr>\n",
       "    <tr>\n",
       "      <th>3</th>\n",
       "      <td>2021-04-09</td>\n",
       "      <td>1.2530</td>\n",
       "      <td>1.3125</td>\n",
       "    </tr>\n",
       "    <tr>\n",
       "      <th>4</th>\n",
       "      <td>2021-04-10</td>\n",
       "      <td>1.2530</td>\n",
       "      <td>1.3125</td>\n",
       "    </tr>\n",
       "  </tbody>\n",
       "</table>\n",
       "</div>"
      ],
      "text/plain": [
       "        Fecha  USD_CAD  USD_AUD\n",
       "0  2021-04-06   1.2566   1.3049\n",
       "1  2021-04-07   1.2609   1.3137\n",
       "2  2021-04-08   1.2562   1.3066\n",
       "3  2021-04-09   1.2530   1.3125\n",
       "4  2021-04-10   1.2530   1.3125"
      ]
     },
     "metadata": {},
     "output_type": "display_data"
    },
    {
     "data": {
      "text/html": [
       "<div>\n",
       "<style scoped>\n",
       "    .dataframe tbody tr th:only-of-type {\n",
       "        vertical-align: middle;\n",
       "    }\n",
       "\n",
       "    .dataframe tbody tr th {\n",
       "        vertical-align: top;\n",
       "    }\n",
       "\n",
       "    .dataframe thead th {\n",
       "        text-align: right;\n",
       "    }\n",
       "</style>\n",
       "<table border=\"1\" class=\"dataframe\">\n",
       "  <thead>\n",
       "    <tr style=\"text-align: right;\">\n",
       "      <th></th>\n",
       "      <th>Fecha</th>\n",
       "      <th>USD_CAD</th>\n",
       "      <th>USD_AUD</th>\n",
       "    </tr>\n",
       "  </thead>\n",
       "  <tbody>\n",
       "    <tr>\n",
       "      <th>1091</th>\n",
       "      <td>2024-04-01</td>\n",
       "      <td>1.3570</td>\n",
       "      <td>1.5410</td>\n",
       "    </tr>\n",
       "    <tr>\n",
       "      <th>1092</th>\n",
       "      <td>2024-04-02</td>\n",
       "      <td>1.3567</td>\n",
       "      <td>1.5342</td>\n",
       "    </tr>\n",
       "    <tr>\n",
       "      <th>1093</th>\n",
       "      <td>2024-04-03</td>\n",
       "      <td>1.3527</td>\n",
       "      <td>1.5233</td>\n",
       "    </tr>\n",
       "    <tr>\n",
       "      <th>1094</th>\n",
       "      <td>2024-04-04</td>\n",
       "      <td>1.3543</td>\n",
       "      <td>1.5180</td>\n",
       "    </tr>\n",
       "    <tr>\n",
       "      <th>1095</th>\n",
       "      <td>2024-04-05</td>\n",
       "      <td>1.3590</td>\n",
       "      <td>1.5201</td>\n",
       "    </tr>\n",
       "  </tbody>\n",
       "</table>\n",
       "</div>"
      ],
      "text/plain": [
       "           Fecha  USD_CAD  USD_AUD\n",
       "1091  2024-04-01   1.3570   1.5410\n",
       "1092  2024-04-02   1.3567   1.5342\n",
       "1093  2024-04-03   1.3527   1.5233\n",
       "1094  2024-04-04   1.3543   1.5180\n",
       "1095  2024-04-05   1.3590   1.5201"
      ]
     },
     "metadata": {},
     "output_type": "display_data"
    }
   ],
   "source": [
    "df=pd.read_csv(\"../data/trusted/currency_exchange.csv\")\n",
    "print(df.dtypes)\n",
    "print(df.shape)\n",
    "display(df.head())\n",
    "display(df.tail())"
   ]
  },
  {
   "cell_type": "markdown",
   "metadata": {},
   "source": [
    "## Testeando ARCH"
   ]
  }
 ],
 "metadata": {
  "kernelspec": {
   "display_name": "estadistica-avanzada-_iX5znns",
   "language": "python",
   "name": "python3"
  },
  "language_info": {
   "codemirror_mode": {
    "name": "ipython",
    "version": 3
   },
   "file_extension": ".py",
   "mimetype": "text/x-python",
   "name": "python",
   "nbconvert_exporter": "python",
   "pygments_lexer": "ipython3",
   "version": "3.11.5"
  }
 },
 "nbformat": 4,
 "nbformat_minor": 2
}
